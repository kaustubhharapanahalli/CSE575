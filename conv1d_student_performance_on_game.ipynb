{
 "cells": [
  {
   "cell_type": "code",
   "execution_count": 1,
   "id": "67f768b6",
   "metadata": {
    "_cell_guid": "b1076dfc-b9ad-4769-8c92-a6c4dae69d19",
    "_uuid": "8f2839f25d086af736a60e9eeb907d3b93b6e0e5",
    "execution": {
     "iopub.execute_input": "2023-04-15T15:57:43.334730Z",
     "iopub.status.busy": "2023-04-15T15:57:43.334263Z",
     "iopub.status.idle": "2023-04-15T15:57:50.220848Z",
     "shell.execute_reply": "2023-04-15T15:57:50.219719Z"
    },
    "id": "67f768b6",
    "papermill": {
     "duration": 6.898401,
     "end_time": "2023-04-15T15:57:50.223504",
     "exception": false,
     "start_time": "2023-04-15T15:57:43.325103",
     "status": "completed"
    },
    "tags": []
   },
   "outputs": [],
   "source": [
    "import numpy as np # linear algebra\n",
    "import pandas as pd # data processing, CSV file I/O (e.g. pd.read_csv)\n",
    "import tensorflow as tf\n",
    "from tensorflow import keras\n",
    "from tensorflow.keras.models import Sequential\n",
    "from tensorflow.keras.layers import Activation, Dense, Dropout, Embedding,Flatten,Conv1D,MaxPooling1D,BatchNormalization,GlobalMaxPooling1D\n",
    "from tensorflow.keras.optimizers import Adam\n",
    "# from tensorflow.keras.utils import to_categorical #One-hot encoder\n",
    "import matplotlib.pyplot as plt\n",
    "from tensorflow.keras.models import load_model\n",
    "from tensorflow.keras.preprocessing.sequence import pad_sequences\n",
    "import gc\n",
    "from tensorflow.keras.callbacks import EarlyStopping\n",
    "from tensorflow.keras.callbacks import ModelCheckpoint\n",
    "from sklearn.metrics import f1_score"
   ]
  },
  {
   "cell_type": "code",
   "execution_count": 2,
   "id": "5b4dcf00",
   "metadata": {
    "execution": {
     "iopub.execute_input": "2023-04-15T15:57:50.238951Z",
     "iopub.status.busy": "2023-04-15T15:57:50.237555Z",
     "iopub.status.idle": "2023-04-15T15:59:03.450436Z",
     "shell.execute_reply": "2023-04-15T15:59:03.449383Z"
    },
    "id": "5b4dcf00",
    "outputId": "ac859922-0447-4b1a-bd5b-0a4036136718",
    "papermill": {
     "duration": 73.229657,
     "end_time": "2023-04-15T15:59:03.459778",
     "exception": false,
     "start_time": "2023-04-15T15:57:50.230121",
     "status": "completed"
    },
    "tags": []
   },
   "outputs": [
    {
     "name": "stdout",
     "output_type": "stream",
     "text": [
      "(13174211, 3)\n"
     ]
    },
    {
     "data": {
      "text/html": [
       "<div>\n",
       "<style scoped>\n",
       "    .dataframe tbody tr th:only-of-type {\n",
       "        vertical-align: middle;\n",
       "    }\n",
       "\n",
       "    .dataframe tbody tr th {\n",
       "        vertical-align: top;\n",
       "    }\n",
       "\n",
       "    .dataframe thead th {\n",
       "        text-align: right;\n",
       "    }\n",
       "</style>\n",
       "<table border=\"1\" class=\"dataframe\">\n",
       "  <thead>\n",
       "    <tr style=\"text-align: right;\">\n",
       "      <th></th>\n",
       "      <th>session_id</th>\n",
       "      <th>elapsed_time</th>\n",
       "      <th>level_group</th>\n",
       "    </tr>\n",
       "  </thead>\n",
       "  <tbody>\n",
       "    <tr>\n",
       "      <th>0</th>\n",
       "      <td>20090312431273200</td>\n",
       "      <td>0</td>\n",
       "      <td>0-4</td>\n",
       "    </tr>\n",
       "    <tr>\n",
       "      <th>1</th>\n",
       "      <td>20090312431273200</td>\n",
       "      <td>1323</td>\n",
       "      <td>0-4</td>\n",
       "    </tr>\n",
       "    <tr>\n",
       "      <th>2</th>\n",
       "      <td>20090312431273200</td>\n",
       "      <td>831</td>\n",
       "      <td>0-4</td>\n",
       "    </tr>\n",
       "    <tr>\n",
       "      <th>3</th>\n",
       "      <td>20090312431273200</td>\n",
       "      <td>1147</td>\n",
       "      <td>0-4</td>\n",
       "    </tr>\n",
       "    <tr>\n",
       "      <th>4</th>\n",
       "      <td>20090312431273200</td>\n",
       "      <td>1863</td>\n",
       "      <td>0-4</td>\n",
       "    </tr>\n",
       "  </tbody>\n",
       "</table>\n",
       "</div>"
      ],
      "text/plain": [
       "          session_id  elapsed_time level_group\n",
       "0  20090312431273200             0         0-4\n",
       "1  20090312431273200          1323         0-4\n",
       "2  20090312431273200           831         0-4\n",
       "3  20090312431273200          1147         0-4\n",
       "4  20090312431273200          1863         0-4"
      ]
     },
     "execution_count": 2,
     "metadata": {},
     "output_type": "execute_result"
    }
   ],
   "source": [
    "train = pd.read_csv(\"data/train.csv\",\n",
    "                usecols=['session_id','elapsed_time','level_group'])\n",
    "print(train.shape)\n",
    "train.head()"
   ]
  },
  {
   "cell_type": "code",
   "execution_count": 3,
   "id": "83442da0",
   "metadata": {
    "execution": {
     "iopub.execute_input": "2023-04-15T15:59:03.473937Z",
     "iopub.status.busy": "2023-04-15T15:59:03.473623Z",
     "iopub.status.idle": "2023-04-15T15:59:05.041041Z",
     "shell.execute_reply": "2023-04-15T15:59:05.039891Z"
    },
    "id": "83442da0",
    "outputId": "706ddb9f-9b1e-42a4-892d-afa0a24e8273",
    "papermill": {
     "duration": 1.576945,
     "end_time": "2023-04-15T15:59:05.043222",
     "exception": false,
     "start_time": "2023-04-15T15:59:03.466277",
     "status": "completed"
    },
    "tags": []
   },
   "outputs": [
    {
     "name": "stdout",
     "output_type": "stream",
     "text": [
      "(212022, 4)\n"
     ]
    },
    {
     "data": {
      "text/html": [
       "<div>\n",
       "<style scoped>\n",
       "    .dataframe tbody tr th:only-of-type {\n",
       "        vertical-align: middle;\n",
       "    }\n",
       "\n",
       "    .dataframe tbody tr th {\n",
       "        vertical-align: top;\n",
       "    }\n",
       "\n",
       "    .dataframe thead th {\n",
       "        text-align: right;\n",
       "    }\n",
       "</style>\n",
       "<table border=\"1\" class=\"dataframe\">\n",
       "  <thead>\n",
       "    <tr style=\"text-align: right;\">\n",
       "      <th></th>\n",
       "      <th>session_id</th>\n",
       "      <th>correct</th>\n",
       "      <th>user_id</th>\n",
       "      <th>q</th>\n",
       "    </tr>\n",
       "  </thead>\n",
       "  <tbody>\n",
       "    <tr>\n",
       "      <th>0</th>\n",
       "      <td>20090312431273200_q1</td>\n",
       "      <td>1</td>\n",
       "      <td>20090312431273200</td>\n",
       "      <td>1</td>\n",
       "    </tr>\n",
       "    <tr>\n",
       "      <th>1</th>\n",
       "      <td>20090312433251036_q1</td>\n",
       "      <td>0</td>\n",
       "      <td>20090312433251036</td>\n",
       "      <td>1</td>\n",
       "    </tr>\n",
       "    <tr>\n",
       "      <th>2</th>\n",
       "      <td>20090314121766812_q1</td>\n",
       "      <td>1</td>\n",
       "      <td>20090314121766812</td>\n",
       "      <td>1</td>\n",
       "    </tr>\n",
       "    <tr>\n",
       "      <th>3</th>\n",
       "      <td>20090314363702160_q1</td>\n",
       "      <td>1</td>\n",
       "      <td>20090314363702160</td>\n",
       "      <td>1</td>\n",
       "    </tr>\n",
       "    <tr>\n",
       "      <th>4</th>\n",
       "      <td>20090314441803444_q1</td>\n",
       "      <td>1</td>\n",
       "      <td>20090314441803444</td>\n",
       "      <td>1</td>\n",
       "    </tr>\n",
       "  </tbody>\n",
       "</table>\n",
       "</div>"
      ],
      "text/plain": [
       "             session_id  correct            user_id  q\n",
       "0  20090312431273200_q1        1  20090312431273200  1\n",
       "1  20090312433251036_q1        0  20090312433251036  1\n",
       "2  20090314121766812_q1        1  20090314121766812  1\n",
       "3  20090314363702160_q1        1  20090314363702160  1\n",
       "4  20090314441803444_q1        1  20090314441803444  1"
      ]
     },
     "execution_count": 3,
     "metadata": {},
     "output_type": "execute_result"
    }
   ],
   "source": [
    "target = pd.read_csv(\"data/train_labels.csv\")\n",
    "tmp = target.session_id.str.split(\"_\", expand =True)\n",
    "target[\"user_id\"] = tmp[0].astype(\"int\")\n",
    "target[\"q\"] = tmp[1].str.slice(1).astype(\"int\")\n",
    "print(target.shape)\n",
    "target.head()"
   ]
  },
  {
   "cell_type": "code",
   "execution_count": 4,
   "id": "9b299843",
   "metadata": {
    "execution": {
     "iopub.execute_input": "2023-04-15T15:59:05.058276Z",
     "iopub.status.busy": "2023-04-15T15:59:05.057975Z",
     "iopub.status.idle": "2023-04-15T15:59:05.203971Z",
     "shell.execute_reply": "2023-04-15T15:59:05.202734Z"
    },
    "id": "9b299843",
    "outputId": "5ac062d4-bd45-4bab-965b-506eff552473",
    "papermill": {
     "duration": 0.15641,
     "end_time": "2023-04-15T15:59:05.206574",
     "exception": false,
     "start_time": "2023-04-15T15:59:05.050164",
     "status": "completed"
    },
    "tags": []
   },
   "outputs": [
    {
     "data": {
      "text/plain": [
       "(11779, 11779)"
      ]
     },
     "execution_count": 4,
     "metadata": {},
     "output_type": "execute_result"
    }
   ],
   "source": [
    "train.session_id.nunique(), target.user_id.nunique()"
   ]
  },
  {
   "cell_type": "markdown",
   "id": "c0268973",
   "metadata": {
    "id": "c0268973",
    "papermill": {
     "duration": 0.006826,
     "end_time": "2023-04-15T15:59:05.220609",
     "exception": false,
     "start_time": "2023-04-15T15:59:05.213783",
     "status": "completed"
    },
    "tags": []
   },
   "source": [
    "# FEATURE ENGINEERING:"
   ]
  },
  {
   "cell_type": "code",
   "execution_count": 5,
   "id": "9f1fe290",
   "metadata": {
    "execution": {
     "iopub.execute_input": "2023-04-15T15:59:05.238182Z",
     "iopub.status.busy": "2023-04-15T15:59:05.237792Z",
     "iopub.status.idle": "2023-04-15T15:59:05.275987Z",
     "shell.execute_reply": "2023-04-15T15:59:05.274771Z"
    },
    "id": "9f1fe290",
    "papermill": {
     "duration": 0.050017,
     "end_time": "2023-04-15T15:59:05.278782",
     "exception": false,
     "start_time": "2023-04-15T15:59:05.228765",
     "status": "completed"
    },
    "tags": []
   },
   "outputs": [],
   "source": [
    "GP1 = '0-4'\n",
    "GP2 = '5-12'\n",
    "GP3 = '13-22'\n",
    "\n",
    "GROUP_DATA = {\n",
    "    GP1: {\n",
    "        \"data\": [],\n",
    "        'target': target[(target.q >= 1) & (target.q <= 3)] # 只有train data會用到這個 /test不會\n",
    "    },\n",
    "    GP2: {\n",
    "        \"data\": [],\n",
    "        'target': target[(target.q >= 4) & (target.q <= 13)]\n",
    "    },\n",
    "    GP3: {\n",
    "        \"data\":  [],\n",
    "        'target': target[(target.q >= 14) & (target.q <= 18)]\n",
    "    }\n",
    "}\n",
    "\n",
    "\n",
    "# cut_len = {}\n",
    "grp=[GP1,GP2,GP3]\n",
    "def feature_engineer(df):\n",
    "    df = df.loc[:,['session_id','elapsed_time','level_group']]\n",
    "#     event_duration\n",
    "    df.elapsed_time /= 1000 #轉為秒\n",
    "    event_duration = df.elapsed_time.diff().fillna(0).clip(0,3600).astype(\"float32\") #最大道3600秒也就是一小時\n",
    "    df['event_duration'] = event_duration.astype(\"float32\")\n",
    "    df.drop('elapsed_time', axis = 1, inplace =True)\n",
    "    \n",
    "    #每個level_group要pad_sequence的長度\n",
    "#     for level in grp:\n",
    "#         sequence_len = np.ceil(df[df[\"level_group\"] == level].groupby([\"session_id\",\"level_group\"]).agg(\"count\").mean()).astype(\"int\") #擷取每個level_group的事件長度為平均數\n",
    "#         cut_len[level] = sequence_len\n",
    "        \n",
    "    for level in grp:\n",
    "        GROUP_DATA[level][\"data\"] = df[df[\"level_group\"] ==level]\n",
    "        \n",
    "    for level in grp:\n",
    "        tmp = []\n",
    "        user_id = []\n",
    "        for session_id, info in GROUP_DATA[level][\"data\"].groupby(\"session_id\"):\n",
    "            tmp.append(info['event_duration'].astype(\"float32\"))\n",
    "            user_id.append(session_id)\n",
    "        GROUP_DATA[level][\"data\"] = pad_sequences(tmp, padding='post', maxlen = 500,dtype='float16')\n",
    "    return df"
   ]
  },
  {
   "cell_type": "code",
   "execution_count": 6,
   "id": "79c23b7e",
   "metadata": {
    "execution": {
     "iopub.execute_input": "2023-04-15T15:59:05.296671Z",
     "iopub.status.busy": "2023-04-15T15:59:05.296319Z",
     "iopub.status.idle": "2023-04-15T15:59:31.695752Z",
     "shell.execute_reply": "2023-04-15T15:59:31.694712Z"
    },
    "id": "79c23b7e",
    "outputId": "2e71b2a1-75fd-4f20-82a5-af7d8e2e9be2",
    "papermill": {
     "duration": 26.410711,
     "end_time": "2023-04-15T15:59:31.697951",
     "exception": false,
     "start_time": "2023-04-15T15:59:05.287240",
     "status": "completed"
    },
    "tags": []
   },
   "outputs": [
    {
     "data": {
      "text/html": [
       "<div>\n",
       "<style scoped>\n",
       "    .dataframe tbody tr th:only-of-type {\n",
       "        vertical-align: middle;\n",
       "    }\n",
       "\n",
       "    .dataframe tbody tr th {\n",
       "        vertical-align: top;\n",
       "    }\n",
       "\n",
       "    .dataframe thead th {\n",
       "        text-align: right;\n",
       "    }\n",
       "</style>\n",
       "<table border=\"1\" class=\"dataframe\">\n",
       "  <thead>\n",
       "    <tr style=\"text-align: right;\">\n",
       "      <th></th>\n",
       "      <th>session_id</th>\n",
       "      <th>level_group</th>\n",
       "      <th>event_duration</th>\n",
       "    </tr>\n",
       "  </thead>\n",
       "  <tbody>\n",
       "    <tr>\n",
       "      <th>0</th>\n",
       "      <td>20090312431273200</td>\n",
       "      <td>0-4</td>\n",
       "      <td>0.000</td>\n",
       "    </tr>\n",
       "    <tr>\n",
       "      <th>1</th>\n",
       "      <td>20090312431273200</td>\n",
       "      <td>0-4</td>\n",
       "      <td>1.323</td>\n",
       "    </tr>\n",
       "    <tr>\n",
       "      <th>2</th>\n",
       "      <td>20090312431273200</td>\n",
       "      <td>0-4</td>\n",
       "      <td>0.000</td>\n",
       "    </tr>\n",
       "    <tr>\n",
       "      <th>3</th>\n",
       "      <td>20090312431273200</td>\n",
       "      <td>0-4</td>\n",
       "      <td>0.316</td>\n",
       "    </tr>\n",
       "    <tr>\n",
       "      <th>4</th>\n",
       "      <td>20090312431273200</td>\n",
       "      <td>0-4</td>\n",
       "      <td>0.716</td>\n",
       "    </tr>\n",
       "    <tr>\n",
       "      <th>...</th>\n",
       "      <td>...</td>\n",
       "      <td>...</td>\n",
       "      <td>...</td>\n",
       "    </tr>\n",
       "    <tr>\n",
       "      <th>13174206</th>\n",
       "      <td>22100221145014656</td>\n",
       "      <td>13-22</td>\n",
       "      <td>1.046</td>\n",
       "    </tr>\n",
       "    <tr>\n",
       "      <th>13174207</th>\n",
       "      <td>22100221145014656</td>\n",
       "      <td>13-22</td>\n",
       "      <td>1.935</td>\n",
       "    </tr>\n",
       "    <tr>\n",
       "      <th>13174208</th>\n",
       "      <td>22100221145014656</td>\n",
       "      <td>13-22</td>\n",
       "      <td>0.751</td>\n",
       "    </tr>\n",
       "    <tr>\n",
       "      <th>13174209</th>\n",
       "      <td>22100221145014656</td>\n",
       "      <td>13-22</td>\n",
       "      <td>0.836</td>\n",
       "    </tr>\n",
       "    <tr>\n",
       "      <th>13174210</th>\n",
       "      <td>22100221145014656</td>\n",
       "      <td>13-22</td>\n",
       "      <td>1.199</td>\n",
       "    </tr>\n",
       "  </tbody>\n",
       "</table>\n",
       "<p>13174211 rows × 3 columns</p>\n",
       "</div>"
      ],
      "text/plain": [
       "                 session_id level_group  event_duration\n",
       "0         20090312431273200         0-4           0.000\n",
       "1         20090312431273200         0-4           1.323\n",
       "2         20090312431273200         0-4           0.000\n",
       "3         20090312431273200         0-4           0.316\n",
       "4         20090312431273200         0-4           0.716\n",
       "...                     ...         ...             ...\n",
       "13174206  22100221145014656       13-22           1.046\n",
       "13174207  22100221145014656       13-22           1.935\n",
       "13174208  22100221145014656       13-22           0.751\n",
       "13174209  22100221145014656       13-22           0.836\n",
       "13174210  22100221145014656       13-22           1.199\n",
       "\n",
       "[13174211 rows x 3 columns]"
      ]
     },
     "execution_count": 6,
     "metadata": {},
     "output_type": "execute_result"
    }
   ],
   "source": [
    "feature_engineer(train)"
   ]
  },
  {
   "cell_type": "code",
   "execution_count": 7,
   "id": "de996569",
   "metadata": {
    "execution": {
     "iopub.execute_input": "2023-04-15T15:59:31.713961Z",
     "iopub.status.busy": "2023-04-15T15:59:31.713646Z",
     "iopub.status.idle": "2023-04-15T15:59:31.893893Z",
     "shell.execute_reply": "2023-04-15T15:59:31.892866Z"
    },
    "id": "de996569",
    "papermill": {
     "duration": 0.190892,
     "end_time": "2023-04-15T15:59:31.896185",
     "exception": false,
     "start_time": "2023-04-15T15:59:31.705293",
     "status": "completed"
    },
    "tags": []
   },
   "outputs": [],
   "source": [
    "_ = gc.collect()"
   ]
  },
  {
   "cell_type": "code",
   "execution_count": 8,
   "id": "396f0509",
   "metadata": {
    "execution": {
     "iopub.execute_input": "2023-04-15T15:59:31.911749Z",
     "iopub.status.busy": "2023-04-15T15:59:31.911440Z",
     "iopub.status.idle": "2023-04-15T15:59:31.926134Z",
     "shell.execute_reply": "2023-04-15T15:59:31.924741Z"
    },
    "id": "396f0509",
    "outputId": "29271c18-dfa8-49ef-8c8d-da9990d463f7",
    "papermill": {
     "duration": 0.024909,
     "end_time": "2023-04-15T15:59:31.928214",
     "exception": false,
     "start_time": "2023-04-15T15:59:31.903305",
     "status": "completed"
    },
    "tags": []
   },
   "outputs": [
    {
     "name": "stdout",
     "output_type": "stream",
     "text": [
      "(11779, 500) 11779\n",
      "(11779, 500) 11779\n",
      "(11779, 500) 11779\n"
     ]
    }
   ],
   "source": [
    "for level in grp:\n",
    "    print(GROUP_DATA[level][\"data\"].shape, GROUP_DATA[level][\"target\"].user_id.nunique())"
   ]
  },
  {
   "cell_type": "code",
   "execution_count": 9,
   "id": "3d822579",
   "metadata": {
    "execution": {
     "iopub.execute_input": "2023-04-15T15:59:31.943563Z",
     "iopub.status.busy": "2023-04-15T15:59:31.943282Z",
     "iopub.status.idle": "2023-04-15T15:59:31.952204Z",
     "shell.execute_reply": "2023-04-15T15:59:31.951307Z"
    },
    "id": "3d822579",
    "outputId": "6810199b-90e0-4489-c17a-c572aaee7ae4",
    "papermill": {
     "duration": 0.019127,
     "end_time": "2023-04-15T15:59:31.954243",
     "exception": false,
     "start_time": "2023-04-15T15:59:31.935116",
     "status": "completed"
    },
    "tags": []
   },
   "outputs": [
    {
     "data": {
      "text/plain": [
       "array([0.   , 1.323, 0.   , 0.316, 0.716], dtype=float16)"
      ]
     },
     "execution_count": 9,
     "metadata": {},
     "output_type": "execute_result"
    }
   ],
   "source": [
    "GROUP_DATA[GP1][\"data\"][0][:5]"
   ]
  },
  {
   "cell_type": "code",
   "execution_count": 10,
   "id": "c9df3319",
   "metadata": {
    "execution": {
     "iopub.execute_input": "2023-04-15T15:59:31.970004Z",
     "iopub.status.busy": "2023-04-15T15:59:31.969207Z",
     "iopub.status.idle": "2023-04-15T15:59:31.978970Z",
     "shell.execute_reply": "2023-04-15T15:59:31.977867Z"
    },
    "id": "c9df3319",
    "outputId": "651ef141-9d3d-432f-d07a-87fbc0a297a0",
    "papermill": {
     "duration": 0.01981,
     "end_time": "2023-04-15T15:59:31.981030",
     "exception": false,
     "start_time": "2023-04-15T15:59:31.961220",
     "status": "completed"
    },
    "tags": []
   },
   "outputs": [
    {
     "data": {
      "text/html": [
       "<div>\n",
       "<style scoped>\n",
       "    .dataframe tbody tr th:only-of-type {\n",
       "        vertical-align: middle;\n",
       "    }\n",
       "\n",
       "    .dataframe tbody tr th {\n",
       "        vertical-align: top;\n",
       "    }\n",
       "\n",
       "    .dataframe thead th {\n",
       "        text-align: right;\n",
       "    }\n",
       "</style>\n",
       "<table border=\"1\" class=\"dataframe\">\n",
       "  <thead>\n",
       "    <tr style=\"text-align: right;\">\n",
       "      <th></th>\n",
       "      <th>session_id</th>\n",
       "      <th>correct</th>\n",
       "      <th>user_id</th>\n",
       "      <th>q</th>\n",
       "    </tr>\n",
       "  </thead>\n",
       "  <tbody>\n",
       "    <tr>\n",
       "      <th>0</th>\n",
       "      <td>20090312431273200_q1</td>\n",
       "      <td>1</td>\n",
       "      <td>20090312431273200</td>\n",
       "      <td>1</td>\n",
       "    </tr>\n",
       "    <tr>\n",
       "      <th>1</th>\n",
       "      <td>20090312433251036_q1</td>\n",
       "      <td>0</td>\n",
       "      <td>20090312433251036</td>\n",
       "      <td>1</td>\n",
       "    </tr>\n",
       "  </tbody>\n",
       "</table>\n",
       "</div>"
      ],
      "text/plain": [
       "             session_id  correct            user_id  q\n",
       "0  20090312431273200_q1        1  20090312431273200  1\n",
       "1  20090312433251036_q1        0  20090312433251036  1"
      ]
     },
     "execution_count": 10,
     "metadata": {},
     "output_type": "execute_result"
    }
   ],
   "source": [
    "GROUP_DATA[GP1][\"target\"].head(2)"
   ]
  },
  {
   "cell_type": "code",
   "execution_count": 11,
   "id": "a5afb444",
   "metadata": {
    "execution": {
     "iopub.execute_input": "2023-04-15T15:59:31.997031Z",
     "iopub.status.busy": "2023-04-15T15:59:31.996144Z",
     "iopub.status.idle": "2023-04-15T15:59:32.172298Z",
     "shell.execute_reply": "2023-04-15T15:59:32.171192Z"
    },
    "id": "a5afb444",
    "papermill": {
     "duration": 0.187402,
     "end_time": "2023-04-15T15:59:32.175498",
     "exception": false,
     "start_time": "2023-04-15T15:59:31.988096",
     "status": "completed"
    },
    "tags": []
   },
   "outputs": [],
   "source": [
    "_ = gc.collect()"
   ]
  },
  {
   "cell_type": "markdown",
   "id": "038ad776",
   "metadata": {
    "id": "038ad776",
    "papermill": {
     "duration": 0.007036,
     "end_time": "2023-04-15T15:59:32.189985",
     "exception": false,
     "start_time": "2023-04-15T15:59:32.182949",
     "status": "completed"
    },
    "tags": []
   },
   "source": [
    "# Conv1D model"
   ]
  },
  {
   "cell_type": "code",
   "execution_count": 12,
   "id": "90bbfa4d",
   "metadata": {
    "execution": {
     "iopub.execute_input": "2023-04-15T15:59:32.205880Z",
     "iopub.status.busy": "2023-04-15T15:59:32.205551Z",
     "iopub.status.idle": "2023-04-15T15:59:32.211547Z",
     "shell.execute_reply": "2023-04-15T15:59:32.210462Z"
    },
    "id": "90bbfa4d",
    "papermill": {
     "duration": 0.016383,
     "end_time": "2023-04-15T15:59:32.213814",
     "exception": false,
     "start_time": "2023-04-15T15:59:32.197431",
     "status": "completed"
    },
    "tags": []
   },
   "outputs": [],
   "source": [
    "def train_model(dim): \n",
    "    model = Sequential()\n",
    "    model.add(Embedding(input_dim=dim, output_dim=128, input_length=500))\n",
    "    model.add(Conv1D(filters=32, kernel_size=3, activation='relu'))\n",
    "    model.add(GlobalMaxPooling1D())\n",
    "    model.add(Dense(64, activation='relu'))\n",
    "    model.add(Dropout(0.25))\n",
    "    model.add(Dense(1, activation='sigmoid'))\n",
    "    return model"
   ]
  },
  {
   "cell_type": "code",
   "execution_count": 13,
   "id": "e99b7944",
   "metadata": {
    "execution": {
     "iopub.execute_input": "2023-04-15T15:59:32.229174Z",
     "iopub.status.busy": "2023-04-15T15:59:32.228902Z",
     "iopub.status.idle": "2023-04-15T15:59:34.381424Z",
     "shell.execute_reply": "2023-04-15T15:59:34.380501Z"
    },
    "id": "e99b7944",
    "outputId": "e3df216c-5f0d-47bf-e425-43789c9d3320",
    "papermill": {
     "duration": 2.172495,
     "end_time": "2023-04-15T15:59:34.393335",
     "exception": false,
     "start_time": "2023-04-15T15:59:32.220840",
     "status": "completed"
    },
    "tags": []
   },
   "outputs": [
    {
     "name": "stdout",
     "output_type": "stream",
     "text": [
      "Metal device set to: Apple M1 Max\n",
      "Model: \"sequential\"\n",
      "_________________________________________________________________\n",
      " Layer (type)                Output Shape              Param #   \n",
      "=================================================================\n",
      " embedding (Embedding)       (None, 500, 128)          12800     \n",
      "                                                                 \n",
      " conv1d (Conv1D)             (None, 498, 32)           12320     \n",
      "                                                                 \n",
      " global_max_pooling1d (Globa  (None, 32)               0         \n",
      " lMaxPooling1D)                                                  \n",
      "                                                                 \n",
      " dense (Dense)               (None, 64)                2112      \n",
      "                                                                 \n",
      " dropout (Dropout)           (None, 64)                0         \n",
      "                                                                 \n",
      " dense_1 (Dense)             (None, 1)                 65        \n",
      "                                                                 \n",
      "=================================================================\n",
      "Total params: 27,297\n",
      "Trainable params: 27,297\n",
      "Non-trainable params: 0\n",
      "_________________________________________________________________\n"
     ]
    },
    {
     "name": "stderr",
     "output_type": "stream",
     "text": [
      "2023-05-04 10:51:16.051886: I tensorflow/core/common_runtime/pluggable_device/pluggable_device_factory.cc:305] Could not identify NUMA node of platform GPU ID 0, defaulting to 0. Your kernel may not have been built with NUMA support.\n",
      "2023-05-04 10:51:16.052392: I tensorflow/core/common_runtime/pluggable_device/pluggable_device_factory.cc:271] Created TensorFlow device (/job:localhost/replica:0/task:0/device:GPU:0 with 0 MB memory) -> physical PluggableDevice (device: 0, name: METAL, pci bus id: <undefined>)\n"
     ]
    }
   ],
   "source": [
    "train_model(100).summary()"
   ]
  },
  {
   "cell_type": "markdown",
   "id": "62bc2d4a",
   "metadata": {
    "id": "62bc2d4a",
    "papermill": {
     "duration": 0.008147,
     "end_time": "2023-04-15T15:59:34.409878",
     "exception": false,
     "start_time": "2023-04-15T15:59:34.401731",
     "status": "completed"
    },
    "tags": []
   },
   "source": [
    "# Train"
   ]
  },
  {
   "cell_type": "code",
   "execution_count": 14,
   "id": "a3fc8456",
   "metadata": {
    "execution": {
     "iopub.execute_input": "2023-04-15T15:59:34.427624Z",
     "iopub.status.busy": "2023-04-15T15:59:34.427295Z",
     "iopub.status.idle": "2023-04-15T15:59:34.569116Z",
     "shell.execute_reply": "2023-04-15T15:59:34.567875Z"
    },
    "id": "a3fc8456",
    "outputId": "2aebec36-8548-4e73-8358-6517b72d24ad",
    "papermill": {
     "duration": 0.154036,
     "end_time": "2023-04-15T15:59:34.572045",
     "exception": false,
     "start_time": "2023-04-15T15:59:34.418009",
     "status": "completed"
    },
    "tags": []
   },
   "outputs": [
    {
     "data": {
      "text/plain": [
       "11779"
      ]
     },
     "execution_count": 14,
     "metadata": {},
     "output_type": "execute_result"
    }
   ],
   "source": [
    "ALL_USER = train.session_id.unique()\n",
    "len(ALL_USER)"
   ]
  },
  {
   "cell_type": "code",
   "execution_count": 15,
   "id": "58c8e422",
   "metadata": {
    "execution": {
     "iopub.execute_input": "2023-04-15T15:59:34.592197Z",
     "iopub.status.busy": "2023-04-15T15:59:34.590516Z",
     "iopub.status.idle": "2023-04-15T15:59:34.613284Z",
     "shell.execute_reply": "2023-04-15T15:59:34.612210Z"
    },
    "id": "58c8e422",
    "outputId": "59114178-1a75-4b42-fe6b-f141f3cc0493",
    "papermill": {
     "duration": 0.034356,
     "end_time": "2023-04-15T15:59:34.615321",
     "exception": false,
     "start_time": "2023-04-15T15:59:34.580965",
     "status": "completed"
    },
    "tags": []
   },
   "outputs": [
    {
     "data": {
      "text/html": [
       "<div>\n",
       "<style scoped>\n",
       "    .dataframe tbody tr th:only-of-type {\n",
       "        vertical-align: middle;\n",
       "    }\n",
       "\n",
       "    .dataframe tbody tr th {\n",
       "        vertical-align: top;\n",
       "    }\n",
       "\n",
       "    .dataframe thead th {\n",
       "        text-align: right;\n",
       "    }\n",
       "</style>\n",
       "<table border=\"1\" class=\"dataframe\">\n",
       "  <thead>\n",
       "    <tr style=\"text-align: right;\">\n",
       "      <th></th>\n",
       "      <th>1</th>\n",
       "      <th>2</th>\n",
       "      <th>3</th>\n",
       "      <th>4</th>\n",
       "      <th>5</th>\n",
       "      <th>6</th>\n",
       "      <th>7</th>\n",
       "      <th>8</th>\n",
       "      <th>9</th>\n",
       "      <th>10</th>\n",
       "      <th>11</th>\n",
       "      <th>12</th>\n",
       "      <th>13</th>\n",
       "      <th>14</th>\n",
       "      <th>15</th>\n",
       "      <th>16</th>\n",
       "      <th>17</th>\n",
       "      <th>18</th>\n",
       "    </tr>\n",
       "  </thead>\n",
       "  <tbody>\n",
       "    <tr>\n",
       "      <th>20090312431273200</th>\n",
       "      <td>0.0</td>\n",
       "      <td>0.0</td>\n",
       "      <td>0.0</td>\n",
       "      <td>0.0</td>\n",
       "      <td>0.0</td>\n",
       "      <td>0.0</td>\n",
       "      <td>0.0</td>\n",
       "      <td>0.0</td>\n",
       "      <td>0.0</td>\n",
       "      <td>0.0</td>\n",
       "      <td>0.0</td>\n",
       "      <td>0.0</td>\n",
       "      <td>0.0</td>\n",
       "      <td>0.0</td>\n",
       "      <td>0.0</td>\n",
       "      <td>0.0</td>\n",
       "      <td>0.0</td>\n",
       "      <td>0.0</td>\n",
       "    </tr>\n",
       "    <tr>\n",
       "      <th>20090312433251036</th>\n",
       "      <td>0.0</td>\n",
       "      <td>0.0</td>\n",
       "      <td>0.0</td>\n",
       "      <td>0.0</td>\n",
       "      <td>0.0</td>\n",
       "      <td>0.0</td>\n",
       "      <td>0.0</td>\n",
       "      <td>0.0</td>\n",
       "      <td>0.0</td>\n",
       "      <td>0.0</td>\n",
       "      <td>0.0</td>\n",
       "      <td>0.0</td>\n",
       "      <td>0.0</td>\n",
       "      <td>0.0</td>\n",
       "      <td>0.0</td>\n",
       "      <td>0.0</td>\n",
       "      <td>0.0</td>\n",
       "      <td>0.0</td>\n",
       "    </tr>\n",
       "    <tr>\n",
       "      <th>20090314121766812</th>\n",
       "      <td>0.0</td>\n",
       "      <td>0.0</td>\n",
       "      <td>0.0</td>\n",
       "      <td>0.0</td>\n",
       "      <td>0.0</td>\n",
       "      <td>0.0</td>\n",
       "      <td>0.0</td>\n",
       "      <td>0.0</td>\n",
       "      <td>0.0</td>\n",
       "      <td>0.0</td>\n",
       "      <td>0.0</td>\n",
       "      <td>0.0</td>\n",
       "      <td>0.0</td>\n",
       "      <td>0.0</td>\n",
       "      <td>0.0</td>\n",
       "      <td>0.0</td>\n",
       "      <td>0.0</td>\n",
       "      <td>0.0</td>\n",
       "    </tr>\n",
       "  </tbody>\n",
       "</table>\n",
       "</div>"
      ],
      "text/plain": [
       "                    1    2    3    4    5    6    7    8    9    10   11   12  \\\n",
       "20090312431273200  0.0  0.0  0.0  0.0  0.0  0.0  0.0  0.0  0.0  0.0  0.0  0.0   \n",
       "20090312433251036  0.0  0.0  0.0  0.0  0.0  0.0  0.0  0.0  0.0  0.0  0.0  0.0   \n",
       "20090314121766812  0.0  0.0  0.0  0.0  0.0  0.0  0.0  0.0  0.0  0.0  0.0  0.0   \n",
       "\n",
       "                    13   14   15   16   17   18  \n",
       "20090312431273200  0.0  0.0  0.0  0.0  0.0  0.0  \n",
       "20090312433251036  0.0  0.0  0.0  0.0  0.0  0.0  \n",
       "20090314121766812  0.0  0.0  0.0  0.0  0.0  0.0  "
      ]
     },
     "execution_count": 15,
     "metadata": {},
     "output_type": "execute_result"
    }
   ],
   "source": [
    "pred_df = pd.DataFrame(np.zeros((len(ALL_USER),18)), index= ALL_USER,columns=range(1,19))\n",
    "pred_df.head(3)"
   ]
  },
  {
   "cell_type": "code",
   "execution_count": 16,
   "id": "625a34a4",
   "metadata": {
    "execution": {
     "iopub.execute_input": "2023-04-15T15:59:34.634081Z",
     "iopub.status.busy": "2023-04-15T15:59:34.633531Z",
     "iopub.status.idle": "2023-04-15T16:05:24.224889Z",
     "shell.execute_reply": "2023-04-15T16:05:24.223794Z"
    },
    "id": "625a34a4",
    "outputId": "1f396bdc-b4ca-4fd3-cd79-e20e23f30d17",
    "papermill": {
     "duration": 349.604001,
     "end_time": "2023-04-15T16:05:24.228010",
     "exception": false,
     "start_time": "2023-04-15T15:59:34.624009",
     "status": "completed"
    },
    "scrolled": false,
    "tags": []
   },
   "outputs": [
    {
     "name": "stdout",
     "output_type": "stream",
     "text": [
      "NUM: 1\n",
      "Epoch 1/20\n"
     ]
    },
    {
     "name": "stderr",
     "output_type": "stream",
     "text": [
      "2023-05-04 10:51:16.449048: W tensorflow/core/platform/profile_utils/cpu_utils.cc:128] Failed to get CPU frequency: 0 Hz\n",
      "2023-05-04 10:51:16.725097: I tensorflow/core/grappler/optimizers/custom_graph_optimizer_registry.cc:113] Plugin optimizer for device_type GPU is enabled.\n"
     ]
    },
    {
     "name": "stdout",
     "output_type": "stream",
     "text": [
      "332/332 [==============================] - ETA: 0s - loss: 0.5934 - accuracy: 0.7229"
     ]
    },
    {
     "name": "stderr",
     "output_type": "stream",
     "text": [
      "2023-05-04 10:51:36.080940: I tensorflow/core/grappler/optimizers/custom_graph_optimizer_registry.cc:113] Plugin optimizer for device_type GPU is enabled.\n",
      "WARNING:absl:Found untraced functions such as _jit_compiled_convolution_op while saving (showing 1 of 1). These functions will not be directly callable after loading.\n"
     ]
    },
    {
     "name": "stdout",
     "output_type": "stream",
     "text": [
      "INFO:tensorflow:Assets written to: 0-4_1/checkpoint/assets\n"
     ]
    },
    {
     "name": "stderr",
     "output_type": "stream",
     "text": [
      "INFO:tensorflow:Assets written to: 0-4_1/checkpoint/assets\n"
     ]
    },
    {
     "name": "stdout",
     "output_type": "stream",
     "text": [
      "332/332 [==============================] - 20s 60ms/step - loss: 0.5934 - accuracy: 0.7229 - val_loss: 0.5702 - val_accuracy: 0.7334\n",
      "Epoch 2/20\n",
      "332/332 [==============================] - 21s 64ms/step - loss: 0.5734 - accuracy: 0.7231 - val_loss: 0.5631 - val_accuracy: 0.7334\n",
      "Epoch 3/20\n",
      "332/332 [==============================] - 15s 46ms/step - loss: 0.5601 - accuracy: 0.7238 - val_loss: 0.5657 - val_accuracy: 0.7275\n",
      "Epoch 4/20\n",
      "332/332 [==============================] - 18s 55ms/step - loss: 0.5489 - accuracy: 0.7308 - val_loss: 0.5671 - val_accuracy: 0.7258\n",
      "Epoch 5/20\n",
      "332/332 [==============================] - 17s 51ms/step - loss: 0.5435 - accuracy: 0.7396 - val_loss: 0.5671 - val_accuracy: 0.7250\n",
      "Epoch 6/20\n",
      "332/332 [==============================] - 13s 38ms/step - loss: 0.5342 - accuracy: 0.7419 - val_loss: 0.5690 - val_accuracy: 0.7233\n",
      "Epoch 7/20\n",
      "332/332 [==============================] - 12s 36ms/step - loss: 0.5269 - accuracy: 0.7465 - val_loss: 0.5825 - val_accuracy: 0.7114\n",
      "Epoch 8/20\n",
      "332/332 [==============================] - 8s 23ms/step - loss: 0.5167 - accuracy: 0.7503 - val_loss: 0.5833 - val_accuracy: 0.7224\n",
      "Epoch 9/20\n",
      "332/332 [==============================] - 8s 25ms/step - loss: 0.5090 - accuracy: 0.7580 - val_loss: 0.5922 - val_accuracy: 0.7267\n",
      "Epoch 10/20\n",
      "332/332 [==============================] - 8s 23ms/step - loss: 0.5026 - accuracy: 0.7619 - val_loss: 0.6038 - val_accuracy: 0.7020\n",
      "Epoch 11/20\n",
      "332/332 [==============================] - 7s 22ms/step - loss: 0.4949 - accuracy: 0.7661 - val_loss: 0.6118 - val_accuracy: 0.7088\n",
      "Epoch 12/20\n",
      "332/332 [==============================] - 7s 22ms/step - loss: 0.4853 - accuracy: 0.7706 - val_loss: 0.6169 - val_accuracy: 0.7267\n",
      "Epoch 13/20\n",
      "332/332 [==============================] - 8s 23ms/step - loss: 0.4766 - accuracy: 0.7797 - val_loss: 0.6275 - val_accuracy: 0.7131\n",
      "Epoch 14/20\n",
      "332/332 [==============================] - 7s 21ms/step - loss: 0.4710 - accuracy: 0.7786 - val_loss: 0.6224 - val_accuracy: 0.7114\n",
      "Epoch 15/20\n",
      "332/332 [==============================] - 7s 22ms/step - loss: 0.4668 - accuracy: 0.7857 - val_loss: 0.6353 - val_accuracy: 0.7063\n",
      "Epoch 16/20\n",
      "332/332 [==============================] - 7s 22ms/step - loss: 0.4601 - accuracy: 0.7828 - val_loss: 0.6398 - val_accuracy: 0.7037\n",
      "Epoch 17/20\n",
      "332/332 [==============================] - 7s 21ms/step - loss: 0.4503 - accuracy: 0.7888 - val_loss: 0.6468 - val_accuracy: 0.7250\n",
      "Epoch 18/20\n",
      "332/332 [==============================] - 7s 21ms/step - loss: 0.4464 - accuracy: 0.7965 - val_loss: 0.6525 - val_accuracy: 0.7105\n",
      "Epoch 19/20\n",
      "332/332 [==============================] - 7s 21ms/step - loss: 0.4391 - accuracy: 0.7994 - val_loss: 0.6579 - val_accuracy: 0.7054\n",
      "Epoch 20/20\n",
      "332/332 [==============================] - 7s 22ms/step - loss: 0.4381 - accuracy: 0.7948 - val_loss: 0.6567 - val_accuracy: 0.6986\n",
      "369/369 [==============================] - 2s 5ms/step - loss: 0.4324 - accuracy: 0.8057\n",
      " 84/369 [=====>........................] - ETA: 0s"
     ]
    },
    {
     "name": "stderr",
     "output_type": "stream",
     "text": [
      "2023-05-04 10:54:51.570013: I tensorflow/core/grappler/optimizers/custom_graph_optimizer_registry.cc:113] Plugin optimizer for device_type GPU is enabled.\n"
     ]
    },
    {
     "name": "stdout",
     "output_type": "stream",
     "text": [
      "369/369 [==============================] - 1s 2ms/step\n",
      "NUM: 2\n",
      "Epoch 1/20\n"
     ]
    },
    {
     "name": "stderr",
     "output_type": "stream",
     "text": [
      "2023-05-04 10:54:52.731014: I tensorflow/core/grappler/optimizers/custom_graph_optimizer_registry.cc:113] Plugin optimizer for device_type GPU is enabled.\n"
     ]
    },
    {
     "name": "stdout",
     "output_type": "stream",
     "text": [
      "332/332 [==============================] - ETA: 0s - loss: 0.1294 - accuracy: 0.9785"
     ]
    },
    {
     "name": "stderr",
     "output_type": "stream",
     "text": [
      "2023-05-04 10:55:30.582098: I tensorflow/core/grappler/optimizers/custom_graph_optimizer_registry.cc:113] Plugin optimizer for device_type GPU is enabled.\n",
      "WARNING:absl:Found untraced functions such as _jit_compiled_convolution_op while saving (showing 1 of 1). These functions will not be directly callable after loading.\n"
     ]
    },
    {
     "name": "stdout",
     "output_type": "stream",
     "text": [
      "INFO:tensorflow:Assets written to: 0-4_2/checkpoint/assets\n"
     ]
    },
    {
     "name": "stderr",
     "output_type": "stream",
     "text": [
      "INFO:tensorflow:Assets written to: 0-4_2/checkpoint/assets\n"
     ]
    },
    {
     "name": "stdout",
     "output_type": "stream",
     "text": [
      "332/332 [==============================] - 39s 116ms/step - loss: 0.1294 - accuracy: 0.9785 - val_loss: 0.1127 - val_accuracy: 0.9762\n",
      "Epoch 2/20\n",
      "332/332 [==============================] - 37s 112ms/step - loss: 0.1045 - accuracy: 0.9791 - val_loss: 0.1118 - val_accuracy: 0.9762\n",
      "Epoch 3/20\n",
      "332/332 [==============================] - 42s 127ms/step - loss: 0.1013 - accuracy: 0.9791 - val_loss: 0.1158 - val_accuracy: 0.9762\n",
      "Epoch 4/20\n",
      "332/332 [==============================] - 41s 125ms/step - loss: 0.0993 - accuracy: 0.9791 - val_loss: 0.1160 - val_accuracy: 0.9762\n",
      "Epoch 5/20\n",
      "332/332 [==============================] - 41s 124ms/step - loss: 0.0938 - accuracy: 0.9791 - val_loss: 0.1217 - val_accuracy: 0.9762\n",
      "Epoch 6/20\n",
      "332/332 [==============================] - 41s 124ms/step - loss: 0.0913 - accuracy: 0.9791 - val_loss: 0.1208 - val_accuracy: 0.9762\n",
      "Epoch 7/20\n",
      "332/332 [==============================] - 41s 124ms/step - loss: 0.0878 - accuracy: 0.9791 - val_loss: 0.1215 - val_accuracy: 0.9762\n",
      "Epoch 8/20\n",
      "332/332 [==============================] - 41s 123ms/step - loss: 0.0849 - accuracy: 0.9792 - val_loss: 0.1276 - val_accuracy: 0.9762\n",
      "Epoch 9/20\n",
      "332/332 [==============================] - 41s 122ms/step - loss: 0.0813 - accuracy: 0.9795 - val_loss: 0.1263 - val_accuracy: 0.9762\n",
      "Epoch 10/20\n",
      "332/332 [==============================] - 37s 111ms/step - loss: 0.0759 - accuracy: 0.9792 - val_loss: 0.1378 - val_accuracy: 0.9762\n",
      "Epoch 11/20\n",
      "332/332 [==============================] - 21s 63ms/step - loss: 0.0716 - accuracy: 0.9795 - val_loss: 0.1416 - val_accuracy: 0.9762\n",
      "Epoch 12/20\n",
      "332/332 [==============================] - 34s 103ms/step - loss: 0.0681 - accuracy: 0.9800 - val_loss: 0.1505 - val_accuracy: 0.9745\n",
      "Epoch 13/20\n",
      "332/332 [==============================] - 23s 70ms/step - loss: 0.0662 - accuracy: 0.9805 - val_loss: 0.1458 - val_accuracy: 0.9762\n",
      "Epoch 14/20\n",
      "332/332 [==============================] - 34s 103ms/step - loss: 0.0605 - accuracy: 0.9816 - val_loss: 0.1609 - val_accuracy: 0.9745\n",
      "Epoch 15/20\n",
      "332/332 [==============================] - 37s 112ms/step - loss: 0.0596 - accuracy: 0.9814 - val_loss: 0.1689 - val_accuracy: 0.9754\n",
      "Epoch 16/20\n",
      "332/332 [==============================] - 29s 86ms/step - loss: 0.0551 - accuracy: 0.9825 - val_loss: 0.1694 - val_accuracy: 0.9737\n",
      "Epoch 17/20\n",
      "332/332 [==============================] - 19s 56ms/step - loss: 0.0534 - accuracy: 0.9825 - val_loss: 0.1834 - val_accuracy: 0.9745\n",
      "Epoch 18/20\n",
      "332/332 [==============================] - 12s 36ms/step - loss: 0.0520 - accuracy: 0.9835 - val_loss: 0.1891 - val_accuracy: 0.9754\n",
      "Epoch 19/20\n",
      "332/332 [==============================] - 15s 45ms/step - loss: 0.0465 - accuracy: 0.9849 - val_loss: 0.2062 - val_accuracy: 0.9745\n",
      "Epoch 20/20\n",
      "332/332 [==============================] - 13s 40ms/step - loss: 0.0457 - accuracy: 0.9854 - val_loss: 0.1888 - val_accuracy: 0.9728\n",
      "369/369 [==============================] - 2s 5ms/step - loss: 0.0498 - accuracy: 0.9858\n",
      " 76/369 [=====>........................] - ETA: 0s"
     ]
    },
    {
     "name": "stderr",
     "output_type": "stream",
     "text": [
      "2023-05-04 11:05:32.890151: I tensorflow/core/grappler/optimizers/custom_graph_optimizer_registry.cc:113] Plugin optimizer for device_type GPU is enabled.\n"
     ]
    },
    {
     "name": "stdout",
     "output_type": "stream",
     "text": [
      "369/369 [==============================] - 1s 2ms/step\n",
      "NUM: 3\n",
      "Epoch 1/20\n"
     ]
    },
    {
     "name": "stderr",
     "output_type": "stream",
     "text": [
      "2023-05-04 11:05:34.420414: I tensorflow/core/grappler/optimizers/custom_graph_optimizer_registry.cc:113] Plugin optimizer for device_type GPU is enabled.\n"
     ]
    },
    {
     "name": "stdout",
     "output_type": "stream",
     "text": [
      "332/332 [==============================] - ETA: 0s - loss: 0.2728 - accuracy: 0.9309"
     ]
    },
    {
     "name": "stderr",
     "output_type": "stream",
     "text": [
      "2023-05-04 11:05:57.264125: I tensorflow/core/grappler/optimizers/custom_graph_optimizer_registry.cc:113] Plugin optimizer for device_type GPU is enabled.\n",
      "WARNING:absl:Found untraced functions such as _jit_compiled_convolution_op while saving (showing 1 of 1). These functions will not be directly callable after loading.\n"
     ]
    },
    {
     "name": "stdout",
     "output_type": "stream",
     "text": [
      "INFO:tensorflow:Assets written to: 0-4_3/checkpoint/assets\n"
     ]
    },
    {
     "name": "stderr",
     "output_type": "stream",
     "text": [
      "INFO:tensorflow:Assets written to: 0-4_3/checkpoint/assets\n"
     ]
    },
    {
     "name": "stdout",
     "output_type": "stream",
     "text": [
      "332/332 [==============================] - 24s 71ms/step - loss: 0.2728 - accuracy: 0.9309 - val_loss: 0.2246 - val_accuracy: 0.9414\n",
      "Epoch 2/20\n",
      "332/332 [==============================] - 30s 89ms/step - loss: 0.2534 - accuracy: 0.9311 - val_loss: 0.2225 - val_accuracy: 0.9414\n",
      "Epoch 3/20\n",
      "332/332 [==============================] - 13s 40ms/step - loss: 0.2480 - accuracy: 0.9311 - val_loss: 0.2231 - val_accuracy: 0.9414\n",
      "Epoch 4/20\n",
      "332/332 [==============================] - 14s 42ms/step - loss: 0.2433 - accuracy: 0.9311 - val_loss: 0.2213 - val_accuracy: 0.9414\n",
      "Epoch 5/20\n",
      "332/332 [==============================] - 12s 37ms/step - loss: 0.2381 - accuracy: 0.9311 - val_loss: 0.2335 - val_accuracy: 0.9414\n",
      "Epoch 6/20\n",
      "332/332 [==============================] - 14s 42ms/step - loss: 0.2317 - accuracy: 0.9311 - val_loss: 0.2228 - val_accuracy: 0.9414\n",
      "Epoch 7/20\n",
      "332/332 [==============================] - 14s 43ms/step - loss: 0.2268 - accuracy: 0.9311 - val_loss: 0.2236 - val_accuracy: 0.9414\n",
      "Epoch 8/20\n",
      "332/332 [==============================] - 16s 48ms/step - loss: 0.2211 - accuracy: 0.9314 - val_loss: 0.2254 - val_accuracy: 0.9414\n",
      "Epoch 9/20\n",
      "332/332 [==============================] - 12s 35ms/step - loss: 0.2151 - accuracy: 0.9317 - val_loss: 0.2310 - val_accuracy: 0.9414\n",
      "Epoch 10/20\n",
      "332/332 [==============================] - 13s 39ms/step - loss: 0.2108 - accuracy: 0.9333 - val_loss: 0.2433 - val_accuracy: 0.9406\n",
      "Epoch 11/20\n",
      "332/332 [==============================] - 13s 39ms/step - loss: 0.2044 - accuracy: 0.9354 - val_loss: 0.2352 - val_accuracy: 0.9406\n",
      "Epoch 12/20\n",
      "332/332 [==============================] - 11s 32ms/step - loss: 0.1998 - accuracy: 0.9366 - val_loss: 0.2330 - val_accuracy: 0.9406\n",
      "Epoch 13/20\n",
      "332/332 [==============================] - 9s 28ms/step - loss: 0.1929 - accuracy: 0.9378 - val_loss: 0.2311 - val_accuracy: 0.9406\n",
      "Epoch 14/20\n",
      "332/332 [==============================] - 8s 25ms/step - loss: 0.1885 - accuracy: 0.9397 - val_loss: 0.2444 - val_accuracy: 0.9397\n",
      "Epoch 15/20\n",
      "332/332 [==============================] - 9s 28ms/step - loss: 0.1820 - accuracy: 0.9404 - val_loss: 0.2734 - val_accuracy: 0.9194\n",
      "Epoch 16/20\n",
      "332/332 [==============================] - 10s 31ms/step - loss: 0.1793 - accuracy: 0.9422 - val_loss: 0.2577 - val_accuracy: 0.9312\n",
      "Epoch 17/20\n",
      "332/332 [==============================] - 10s 31ms/step - loss: 0.1714 - accuracy: 0.9434 - val_loss: 0.2569 - val_accuracy: 0.9397\n",
      "Epoch 18/20\n",
      "332/332 [==============================] - 9s 27ms/step - loss: 0.1669 - accuracy: 0.9447 - val_loss: 0.2641 - val_accuracy: 0.9355\n",
      "Epoch 19/20\n",
      "332/332 [==============================] - 9s 26ms/step - loss: 0.1655 - accuracy: 0.9462 - val_loss: 0.2612 - val_accuracy: 0.9338\n",
      "Epoch 20/20\n",
      "332/332 [==============================] - 9s 26ms/step - loss: 0.1593 - accuracy: 0.9470 - val_loss: 0.2738 - val_accuracy: 0.9295\n",
      "369/369 [==============================] - 2s 5ms/step - loss: 0.1542 - accuracy: 0.9535\n",
      " 69/369 [====>.........................] - ETA: 0s"
     ]
    },
    {
     "name": "stderr",
     "output_type": "stream",
     "text": [
      "2023-05-04 11:09:55.521160: I tensorflow/core/grappler/optimizers/custom_graph_optimizer_registry.cc:113] Plugin optimizer for device_type GPU is enabled.\n"
     ]
    },
    {
     "name": "stdout",
     "output_type": "stream",
     "text": [
      "369/369 [==============================] - 1s 2ms/step\n",
      "NUM: 4\n",
      "Epoch 1/20\n"
     ]
    },
    {
     "name": "stderr",
     "output_type": "stream",
     "text": [
      "2023-05-04 11:09:56.787346: I tensorflow/core/grappler/optimizers/custom_graph_optimizer_registry.cc:113] Plugin optimizer for device_type GPU is enabled.\n"
     ]
    },
    {
     "name": "stdout",
     "output_type": "stream",
     "text": [
      "332/332 [==============================] - ETA: 0s - loss: 0.5100 - accuracy: 0.7991"
     ]
    },
    {
     "name": "stderr",
     "output_type": "stream",
     "text": [
      "2023-05-04 11:10:07.526845: I tensorflow/core/grappler/optimizers/custom_graph_optimizer_registry.cc:113] Plugin optimizer for device_type GPU is enabled.\n",
      "WARNING:absl:Found untraced functions such as _jit_compiled_convolution_op while saving (showing 1 of 1). These functions will not be directly callable after loading.\n"
     ]
    },
    {
     "name": "stdout",
     "output_type": "stream",
     "text": [
      "INFO:tensorflow:Assets written to: 5-12_4/checkpoint/assets\n"
     ]
    },
    {
     "name": "stderr",
     "output_type": "stream",
     "text": [
      "INFO:tensorflow:Assets written to: 5-12_4/checkpoint/assets\n"
     ]
    },
    {
     "name": "stdout",
     "output_type": "stream",
     "text": [
      "332/332 [==============================] - 12s 35ms/step - loss: 0.5100 - accuracy: 0.7991 - val_loss: 0.4969 - val_accuracy: 0.8014\n",
      "Epoch 2/20\n",
      "332/332 [==============================] - 12s 35ms/step - loss: 0.5003 - accuracy: 0.7991 - val_loss: 0.4938 - val_accuracy: 0.8014\n",
      "Epoch 3/20\n",
      "332/332 [==============================] - 11s 35ms/step - loss: 0.4945 - accuracy: 0.7993 - val_loss: 0.4935 - val_accuracy: 0.8014\n",
      "Epoch 4/20\n",
      "332/332 [==============================] - 11s 33ms/step - loss: 0.4878 - accuracy: 0.7994 - val_loss: 0.5040 - val_accuracy: 0.8014\n",
      "Epoch 5/20\n",
      "332/332 [==============================] - 12s 36ms/step - loss: 0.4772 - accuracy: 0.7990 - val_loss: 0.5016 - val_accuracy: 0.8014\n",
      "Epoch 6/20\n",
      "332/332 [==============================] - 12s 37ms/step - loss: 0.4736 - accuracy: 0.7995 - val_loss: 0.4990 - val_accuracy: 0.8014\n",
      "Epoch 7/20\n",
      "332/332 [==============================] - 12s 35ms/step - loss: 0.4628 - accuracy: 0.8020 - val_loss: 0.5000 - val_accuracy: 0.8014\n",
      "Epoch 8/20\n",
      "332/332 [==============================] - 15s 44ms/step - loss: 0.4566 - accuracy: 0.8049 - val_loss: 0.5080 - val_accuracy: 0.7988\n",
      "Epoch 9/20\n",
      "332/332 [==============================] - 17s 51ms/step - loss: 0.4488 - accuracy: 0.8077 - val_loss: 0.5175 - val_accuracy: 0.8014\n",
      "Epoch 10/20\n",
      "332/332 [==============================] - 16s 48ms/step - loss: 0.4409 - accuracy: 0.8084 - val_loss: 0.5157 - val_accuracy: 0.7980\n",
      "Epoch 11/20\n",
      "332/332 [==============================] - 15s 46ms/step - loss: 0.4361 - accuracy: 0.8111 - val_loss: 0.5168 - val_accuracy: 0.7963\n",
      "Epoch 12/20\n",
      "332/332 [==============================] - ETA: 0s - loss: 0.4242 - accuracy: 0.8161"
     ]
    },
    {
     "name": "stderr",
     "output_type": "stream",
     "text": [
      "WARNING:absl:Found untraced functions such as _jit_compiled_convolution_op while saving (showing 1 of 1). These functions will not be directly callable after loading.\n"
     ]
    },
    {
     "name": "stdout",
     "output_type": "stream",
     "text": [
      "INFO:tensorflow:Assets written to: 5-12_4/checkpoint/assets\n"
     ]
    },
    {
     "name": "stderr",
     "output_type": "stream",
     "text": [
      "INFO:tensorflow:Assets written to: 5-12_4/checkpoint/assets\n"
     ]
    },
    {
     "name": "stdout",
     "output_type": "stream",
     "text": [
      "332/332 [==============================] - 17s 51ms/step - loss: 0.4242 - accuracy: 0.8161 - val_loss: 0.5285 - val_accuracy: 0.8022\n",
      "Epoch 13/20\n",
      "332/332 [==============================] - 13s 40ms/step - loss: 0.4172 - accuracy: 0.8178 - val_loss: 0.5482 - val_accuracy: 0.7649\n",
      "Epoch 14/20\n",
      "332/332 [==============================] - 15s 46ms/step - loss: 0.4110 - accuracy: 0.8227 - val_loss: 0.5544 - val_accuracy: 0.7886\n",
      "Epoch 15/20\n",
      "332/332 [==============================] - 13s 38ms/step - loss: 0.4055 - accuracy: 0.8228 - val_loss: 0.5650 - val_accuracy: 0.7683\n",
      "Epoch 16/20\n",
      "332/332 [==============================] - 13s 40ms/step - loss: 0.3972 - accuracy: 0.8252 - val_loss: 0.5705 - val_accuracy: 0.7793\n",
      "Epoch 17/20\n",
      "332/332 [==============================] - 12s 38ms/step - loss: 0.3927 - accuracy: 0.8274 - val_loss: 0.5785 - val_accuracy: 0.7666\n",
      "Epoch 18/20\n",
      "332/332 [==============================] - 12s 36ms/step - loss: 0.3856 - accuracy: 0.8301 - val_loss: 0.5988 - val_accuracy: 0.7937\n",
      "Epoch 19/20\n",
      "332/332 [==============================] - 12s 36ms/step - loss: 0.3847 - accuracy: 0.8330 - val_loss: 0.5890 - val_accuracy: 0.7776\n",
      "Epoch 20/20\n",
      "332/332 [==============================] - 11s 32ms/step - loss: 0.3764 - accuracy: 0.8363 - val_loss: 0.6071 - val_accuracy: 0.7878\n",
      "369/369 [==============================] - 2s 5ms/step - loss: 0.3866 - accuracy: 0.8314\n",
      " 76/369 [=====>........................] - ETA: 0s"
     ]
    },
    {
     "name": "stderr",
     "output_type": "stream",
     "text": [
      "2023-05-04 11:14:21.867195: I tensorflow/core/grappler/optimizers/custom_graph_optimizer_registry.cc:113] Plugin optimizer for device_type GPU is enabled.\n"
     ]
    },
    {
     "name": "stdout",
     "output_type": "stream",
     "text": [
      "369/369 [==============================] - 1s 2ms/step\n",
      "NUM: 5\n",
      "Epoch 1/20\n"
     ]
    },
    {
     "name": "stderr",
     "output_type": "stream",
     "text": [
      "2023-05-04 11:14:23.009005: I tensorflow/core/grappler/optimizers/custom_graph_optimizer_registry.cc:113] Plugin optimizer for device_type GPU is enabled.\n"
     ]
    },
    {
     "name": "stdout",
     "output_type": "stream",
     "text": [
      "332/332 [==============================] - ETA: 0s - loss: 0.6882 - accuracy: 0.5449"
     ]
    },
    {
     "name": "stderr",
     "output_type": "stream",
     "text": [
      "2023-05-04 11:14:35.326524: I tensorflow/core/grappler/optimizers/custom_graph_optimizer_registry.cc:113] Plugin optimizer for device_type GPU is enabled.\n",
      "WARNING:absl:Found untraced functions such as _jit_compiled_convolution_op while saving (showing 1 of 1). These functions will not be directly callable after loading.\n"
     ]
    },
    {
     "name": "stdout",
     "output_type": "stream",
     "text": [
      "INFO:tensorflow:Assets written to: 5-12_5/checkpoint/assets\n"
     ]
    },
    {
     "name": "stderr",
     "output_type": "stream",
     "text": [
      "INFO:tensorflow:Assets written to: 5-12_5/checkpoint/assets\n"
     ]
    },
    {
     "name": "stdout",
     "output_type": "stream",
     "text": [
      "332/332 [==============================] - 14s 40ms/step - loss: 0.6882 - accuracy: 0.5449 - val_loss: 0.6816 - val_accuracy: 0.5764\n",
      "Epoch 2/20\n",
      "332/332 [==============================] - 14s 43ms/step - loss: 0.6844 - accuracy: 0.5603 - val_loss: 0.6767 - val_accuracy: 0.5739\n",
      "Epoch 3/20\n",
      "331/332 [============================>.] - ETA: 0s - loss: 0.6769 - accuracy: 0.5740"
     ]
    },
    {
     "name": "stderr",
     "output_type": "stream",
     "text": [
      "WARNING:absl:Found untraced functions such as _jit_compiled_convolution_op while saving (showing 1 of 1). These functions will not be directly callable after loading.\n"
     ]
    },
    {
     "name": "stdout",
     "output_type": "stream",
     "text": [
      "INFO:tensorflow:Assets written to: 5-12_5/checkpoint/assets\n"
     ]
    },
    {
     "name": "stderr",
     "output_type": "stream",
     "text": [
      "INFO:tensorflow:Assets written to: 5-12_5/checkpoint/assets\n"
     ]
    },
    {
     "name": "stdout",
     "output_type": "stream",
     "text": [
      "332/332 [==============================] - 16s 48ms/step - loss: 0.6769 - accuracy: 0.5740 - val_loss: 0.6738 - val_accuracy: 0.5959\n",
      "Epoch 4/20\n",
      "332/332 [==============================] - 11s 33ms/step - loss: 0.6706 - accuracy: 0.5871 - val_loss: 0.6749 - val_accuracy: 0.5722\n",
      "Epoch 5/20\n",
      "332/332 [==============================] - 10s 31ms/step - loss: 0.6638 - accuracy: 0.6071 - val_loss: 0.6764 - val_accuracy: 0.5832\n",
      "Epoch 6/20\n",
      "332/332 [==============================] - 9s 27ms/step - loss: 0.6533 - accuracy: 0.6123 - val_loss: 0.6786 - val_accuracy: 0.5798\n",
      "Epoch 7/20\n",
      "332/332 [==============================] - 7s 22ms/step - loss: 0.6423 - accuracy: 0.6253 - val_loss: 0.6915 - val_accuracy: 0.5756\n",
      "Epoch 8/20\n",
      "332/332 [==============================] - 7s 21ms/step - loss: 0.6318 - accuracy: 0.6329 - val_loss: 0.6984 - val_accuracy: 0.5526\n",
      "Epoch 9/20\n",
      "332/332 [==============================] - 7s 21ms/step - loss: 0.6203 - accuracy: 0.6409 - val_loss: 0.6974 - val_accuracy: 0.5611\n",
      "Epoch 10/20\n",
      "332/332 [==============================] - 7s 20ms/step - loss: 0.6092 - accuracy: 0.6542 - val_loss: 0.7013 - val_accuracy: 0.5696\n",
      "Epoch 11/20\n",
      "332/332 [==============================] - 7s 20ms/step - loss: 0.5953 - accuracy: 0.6660 - val_loss: 0.7058 - val_accuracy: 0.5679\n",
      "Epoch 12/20\n",
      "332/332 [==============================] - 7s 20ms/step - loss: 0.5820 - accuracy: 0.6727 - val_loss: 0.7287 - val_accuracy: 0.5535\n",
      "Epoch 13/20\n",
      "332/332 [==============================] - 7s 21ms/step - loss: 0.5718 - accuracy: 0.6842 - val_loss: 0.7399 - val_accuracy: 0.5594\n",
      "Epoch 14/20\n",
      "332/332 [==============================] - 7s 20ms/step - loss: 0.5595 - accuracy: 0.6864 - val_loss: 0.7455 - val_accuracy: 0.5586\n",
      "Epoch 15/20\n",
      "332/332 [==============================] - 6s 19ms/step - loss: 0.5501 - accuracy: 0.6934 - val_loss: 0.7526 - val_accuracy: 0.5628\n",
      "Epoch 16/20\n",
      "332/332 [==============================] - 6s 19ms/step - loss: 0.5454 - accuracy: 0.7000 - val_loss: 0.7798 - val_accuracy: 0.5535\n",
      "Epoch 17/20\n",
      "332/332 [==============================] - 6s 19ms/step - loss: 0.5337 - accuracy: 0.7064 - val_loss: 0.8021 - val_accuracy: 0.5688\n",
      "Epoch 18/20\n",
      "332/332 [==============================] - 6s 19ms/step - loss: 0.5312 - accuracy: 0.7062 - val_loss: 0.8058 - val_accuracy: 0.5705\n",
      "Epoch 19/20\n",
      "332/332 [==============================] - 7s 20ms/step - loss: 0.5205 - accuracy: 0.7151 - val_loss: 0.8151 - val_accuracy: 0.5628\n",
      "Epoch 20/20\n",
      "332/332 [==============================] - 7s 20ms/step - loss: 0.5132 - accuracy: 0.7180 - val_loss: 0.8573 - val_accuracy: 0.5501\n",
      "369/369 [==============================] - 2s 5ms/step - loss: 0.5195 - accuracy: 0.7231\n",
      " 75/369 [=====>........................] - ETA: 0s"
     ]
    },
    {
     "name": "stderr",
     "output_type": "stream",
     "text": [
      "2023-05-04 11:17:12.010514: I tensorflow/core/grappler/optimizers/custom_graph_optimizer_registry.cc:113] Plugin optimizer for device_type GPU is enabled.\n"
     ]
    },
    {
     "name": "stdout",
     "output_type": "stream",
     "text": [
      "369/369 [==============================] - 1s 2ms/step\n",
      "NUM: 6\n",
      "Epoch 1/20\n"
     ]
    },
    {
     "name": "stderr",
     "output_type": "stream",
     "text": [
      "2023-05-04 11:17:13.233153: I tensorflow/core/grappler/optimizers/custom_graph_optimizer_registry.cc:113] Plugin optimizer for device_type GPU is enabled.\n"
     ]
    },
    {
     "name": "stdout",
     "output_type": "stream",
     "text": [
      "332/332 [==============================] - ETA: 0s - loss: 0.5440 - accuracy: 0.7712"
     ]
    },
    {
     "name": "stderr",
     "output_type": "stream",
     "text": [
      "2023-05-04 11:17:35.450878: I tensorflow/core/grappler/optimizers/custom_graph_optimizer_registry.cc:113] Plugin optimizer for device_type GPU is enabled.\n",
      "WARNING:absl:Found untraced functions such as _jit_compiled_convolution_op while saving (showing 1 of 1). These functions will not be directly callable after loading.\n"
     ]
    },
    {
     "name": "stdout",
     "output_type": "stream",
     "text": [
      "INFO:tensorflow:Assets written to: 5-12_6/checkpoint/assets\n"
     ]
    },
    {
     "name": "stderr",
     "output_type": "stream",
     "text": [
      "INFO:tensorflow:Assets written to: 5-12_6/checkpoint/assets\n"
     ]
    },
    {
     "name": "stdout",
     "output_type": "stream",
     "text": [
      "332/332 [==============================] - 24s 70ms/step - loss: 0.5440 - accuracy: 0.7712 - val_loss: 0.5247 - val_accuracy: 0.7776\n",
      "Epoch 2/20\n",
      "332/332 [==============================] - 15s 46ms/step - loss: 0.5325 - accuracy: 0.7714 - val_loss: 0.5237 - val_accuracy: 0.7776\n",
      "Epoch 3/20\n",
      "332/332 [==============================] - 17s 50ms/step - loss: 0.5264 - accuracy: 0.7714 - val_loss: 0.5288 - val_accuracy: 0.7776\n",
      "Epoch 4/20\n",
      "332/332 [==============================] - 15s 45ms/step - loss: 0.5187 - accuracy: 0.7715 - val_loss: 0.5245 - val_accuracy: 0.7776\n",
      "Epoch 5/20\n",
      "332/332 [==============================] - 16s 48ms/step - loss: 0.5100 - accuracy: 0.7723 - val_loss: 0.5301 - val_accuracy: 0.7742\n",
      "Epoch 6/20\n",
      "332/332 [==============================] - 15s 47ms/step - loss: 0.5046 - accuracy: 0.7761 - val_loss: 0.5349 - val_accuracy: 0.7683\n",
      "Epoch 7/20\n",
      "332/332 [==============================] - 14s 41ms/step - loss: 0.4938 - accuracy: 0.7791 - val_loss: 0.5393 - val_accuracy: 0.7699\n",
      "Epoch 8/20\n",
      "332/332 [==============================] - 18s 55ms/step - loss: 0.4850 - accuracy: 0.7837 - val_loss: 0.5406 - val_accuracy: 0.7683\n",
      "Epoch 9/20\n",
      "332/332 [==============================] - 15s 46ms/step - loss: 0.4770 - accuracy: 0.7851 - val_loss: 0.5594 - val_accuracy: 0.7683\n",
      "Epoch 10/20\n",
      "332/332 [==============================] - 9s 27ms/step - loss: 0.4670 - accuracy: 0.7899 - val_loss: 0.5760 - val_accuracy: 0.7555\n",
      "Epoch 11/20\n",
      "332/332 [==============================] - 16s 47ms/step - loss: 0.4562 - accuracy: 0.7947 - val_loss: 0.5943 - val_accuracy: 0.7343\n",
      "Epoch 12/20\n",
      "332/332 [==============================] - 18s 55ms/step - loss: 0.4489 - accuracy: 0.7985 - val_loss: 0.5917 - val_accuracy: 0.7326\n",
      "Epoch 13/20\n",
      "332/332 [==============================] - 14s 41ms/step - loss: 0.4413 - accuracy: 0.8001 - val_loss: 0.6025 - val_accuracy: 0.7649\n",
      "Epoch 14/20\n",
      "332/332 [==============================] - 9s 28ms/step - loss: 0.4335 - accuracy: 0.8039 - val_loss: 0.6041 - val_accuracy: 0.7581\n",
      "Epoch 15/20\n",
      "332/332 [==============================] - 15s 46ms/step - loss: 0.4251 - accuracy: 0.8080 - val_loss: 0.6099 - val_accuracy: 0.7564\n",
      "Epoch 16/20\n",
      "332/332 [==============================] - 9s 28ms/step - loss: 0.4205 - accuracy: 0.8112 - val_loss: 0.6225 - val_accuracy: 0.7419\n",
      "Epoch 17/20\n",
      "332/332 [==============================] - 10s 30ms/step - loss: 0.4118 - accuracy: 0.8143 - val_loss: 0.6430 - val_accuracy: 0.7453\n",
      "Epoch 18/20\n",
      "332/332 [==============================] - 12s 36ms/step - loss: 0.4071 - accuracy: 0.8174 - val_loss: 0.6567 - val_accuracy: 0.7504\n",
      "Epoch 19/20\n",
      "332/332 [==============================] - 12s 35ms/step - loss: 0.4025 - accuracy: 0.8202 - val_loss: 0.6358 - val_accuracy: 0.7496\n",
      "Epoch 20/20\n",
      "332/332 [==============================] - 10s 29ms/step - loss: 0.3924 - accuracy: 0.8263 - val_loss: 0.6562 - val_accuracy: 0.7564\n",
      "369/369 [==============================] - 2s 5ms/step - loss: 0.3953 - accuracy: 0.8311\n",
      " 62/369 [====>.........................] - ETA: 0s"
     ]
    },
    {
     "name": "stderr",
     "output_type": "stream",
     "text": [
      "2023-05-04 11:21:57.659548: I tensorflow/core/grappler/optimizers/custom_graph_optimizer_registry.cc:113] Plugin optimizer for device_type GPU is enabled.\n"
     ]
    },
    {
     "name": "stdout",
     "output_type": "stream",
     "text": [
      "369/369 [==============================] - 1s 2ms/step\n",
      "NUM: 7\n",
      "Epoch 1/20\n"
     ]
    },
    {
     "name": "stderr",
     "output_type": "stream",
     "text": [
      "2023-05-04 11:21:58.914178: I tensorflow/core/grappler/optimizers/custom_graph_optimizer_registry.cc:113] Plugin optimizer for device_type GPU is enabled.\n"
     ]
    },
    {
     "name": "stdout",
     "output_type": "stream",
     "text": [
      "332/332 [==============================] - ETA: 0s - loss: 0.5906 - accuracy: 0.7261"
     ]
    },
    {
     "name": "stderr",
     "output_type": "stream",
     "text": [
      "2023-05-04 11:22:19.092521: I tensorflow/core/grappler/optimizers/custom_graph_optimizer_registry.cc:113] Plugin optimizer for device_type GPU is enabled.\n",
      "WARNING:absl:Found untraced functions such as _jit_compiled_convolution_op while saving (showing 1 of 1). These functions will not be directly callable after loading.\n"
     ]
    },
    {
     "name": "stdout",
     "output_type": "stream",
     "text": [
      "INFO:tensorflow:Assets written to: 5-12_7/checkpoint/assets\n"
     ]
    },
    {
     "name": "stderr",
     "output_type": "stream",
     "text": [
      "INFO:tensorflow:Assets written to: 5-12_7/checkpoint/assets\n"
     ]
    },
    {
     "name": "stdout",
     "output_type": "stream",
     "text": [
      "332/332 [==============================] - 22s 63ms/step - loss: 0.5906 - accuracy: 0.7261 - val_loss: 0.5697 - val_accuracy: 0.7538\n",
      "Epoch 2/20\n",
      "332/332 [==============================] - 16s 49ms/step - loss: 0.5847 - accuracy: 0.7265 - val_loss: 0.5594 - val_accuracy: 0.7538\n",
      "Epoch 3/20\n",
      "332/332 [==============================] - 24s 73ms/step - loss: 0.5792 - accuracy: 0.7265 - val_loss: 0.5551 - val_accuracy: 0.7538\n",
      "Epoch 4/20\n",
      "332/332 [==============================] - 19s 56ms/step - loss: 0.5720 - accuracy: 0.7266 - val_loss: 0.5538 - val_accuracy: 0.7538\n",
      "Epoch 5/20\n",
      "332/332 [==============================] - 16s 49ms/step - loss: 0.5632 - accuracy: 0.7296 - val_loss: 0.5562 - val_accuracy: 0.7530\n",
      "Epoch 6/20\n",
      "332/332 [==============================] - 14s 43ms/step - loss: 0.5542 - accuracy: 0.7324 - val_loss: 0.5621 - val_accuracy: 0.7496\n",
      "Epoch 7/20\n",
      "332/332 [==============================] - 14s 42ms/step - loss: 0.5446 - accuracy: 0.7391 - val_loss: 0.5619 - val_accuracy: 0.7462\n",
      "Epoch 8/20\n",
      "332/332 [==============================] - 10s 31ms/step - loss: 0.5386 - accuracy: 0.7425 - val_loss: 0.5658 - val_accuracy: 0.7462\n",
      "Epoch 9/20\n",
      "332/332 [==============================] - 9s 26ms/step - loss: 0.5307 - accuracy: 0.7445 - val_loss: 0.5744 - val_accuracy: 0.7326\n",
      "Epoch 10/20\n",
      "332/332 [==============================] - 10s 30ms/step - loss: 0.5185 - accuracy: 0.7520 - val_loss: 0.5831 - val_accuracy: 0.7402\n",
      "Epoch 11/20\n",
      "332/332 [==============================] - 8s 25ms/step - loss: 0.5095 - accuracy: 0.7546 - val_loss: 0.5945 - val_accuracy: 0.7275\n",
      "Epoch 12/20\n",
      "332/332 [==============================] - 9s 26ms/step - loss: 0.5019 - accuracy: 0.7611 - val_loss: 0.6002 - val_accuracy: 0.7343\n",
      "Epoch 13/20\n",
      "332/332 [==============================] - 9s 26ms/step - loss: 0.4924 - accuracy: 0.7643 - val_loss: 0.6100 - val_accuracy: 0.7097\n",
      "Epoch 14/20\n",
      "332/332 [==============================] - 10s 29ms/step - loss: 0.4846 - accuracy: 0.7713 - val_loss: 0.6093 - val_accuracy: 0.7156\n",
      "Epoch 15/20\n",
      "332/332 [==============================] - 7s 22ms/step - loss: 0.4766 - accuracy: 0.7715 - val_loss: 0.6205 - val_accuracy: 0.7267\n",
      "Epoch 16/20\n",
      "332/332 [==============================] - 8s 23ms/step - loss: 0.4684 - accuracy: 0.7765 - val_loss: 0.6237 - val_accuracy: 0.7250\n",
      "Epoch 17/20\n",
      "332/332 [==============================] - 9s 26ms/step - loss: 0.4572 - accuracy: 0.7804 - val_loss: 0.6328 - val_accuracy: 0.7258\n",
      "Epoch 18/20\n",
      "332/332 [==============================] - 8s 23ms/step - loss: 0.4483 - accuracy: 0.7856 - val_loss: 0.6640 - val_accuracy: 0.7334\n",
      "Epoch 19/20\n",
      "332/332 [==============================] - 8s 23ms/step - loss: 0.4450 - accuracy: 0.7882 - val_loss: 0.6588 - val_accuracy: 0.7284\n",
      "Epoch 20/20\n",
      "332/332 [==============================] - 7s 22ms/step - loss: 0.4323 - accuracy: 0.7956 - val_loss: 0.6715 - val_accuracy: 0.7173\n",
      "369/369 [==============================] - 2s 5ms/step - loss: 0.4314 - accuracy: 0.7976\n",
      " 41/369 [==>...........................] - ETA: 0s"
     ]
    },
    {
     "name": "stderr",
     "output_type": "stream",
     "text": [
      "2023-05-04 11:25:56.726753: I tensorflow/core/grappler/optimizers/custom_graph_optimizer_registry.cc:113] Plugin optimizer for device_type GPU is enabled.\n"
     ]
    },
    {
     "name": "stdout",
     "output_type": "stream",
     "text": [
      "369/369 [==============================] - 1s 2ms/step\n",
      "NUM: 8\n",
      "Epoch 1/20\n"
     ]
    },
    {
     "name": "stderr",
     "output_type": "stream",
     "text": [
      "2023-05-04 11:25:58.024240: I tensorflow/core/grappler/optimizers/custom_graph_optimizer_registry.cc:113] Plugin optimizer for device_type GPU is enabled.\n"
     ]
    },
    {
     "name": "stdout",
     "output_type": "stream",
     "text": [
      "332/332 [==============================] - ETA: 0s - loss: 0.6701 - accuracy: 0.6123"
     ]
    },
    {
     "name": "stderr",
     "output_type": "stream",
     "text": [
      "2023-05-04 11:26:10.228456: I tensorflow/core/grappler/optimizers/custom_graph_optimizer_registry.cc:113] Plugin optimizer for device_type GPU is enabled.\n",
      "WARNING:absl:Found untraced functions such as _jit_compiled_convolution_op while saving (showing 1 of 1). These functions will not be directly callable after loading.\n"
     ]
    },
    {
     "name": "stdout",
     "output_type": "stream",
     "text": [
      "INFO:tensorflow:Assets written to: 5-12_8/checkpoint/assets\n"
     ]
    },
    {
     "name": "stderr",
     "output_type": "stream",
     "text": [
      "INFO:tensorflow:Assets written to: 5-12_8/checkpoint/assets\n"
     ]
    },
    {
     "name": "stdout",
     "output_type": "stream",
     "text": [
      "332/332 [==============================] - 14s 40ms/step - loss: 0.6701 - accuracy: 0.6123 - val_loss: 0.6614 - val_accuracy: 0.6307\n",
      "Epoch 2/20\n",
      "332/332 [==============================] - 14s 43ms/step - loss: 0.6678 - accuracy: 0.6125 - val_loss: 0.6618 - val_accuracy: 0.6307\n",
      "Epoch 3/20\n",
      "332/332 [==============================] - 13s 38ms/step - loss: 0.6650 - accuracy: 0.6125 - val_loss: 0.6577 - val_accuracy: 0.6307\n",
      "Epoch 4/20\n",
      "332/332 [==============================] - 13s 38ms/step - loss: 0.6619 - accuracy: 0.6125 - val_loss: 0.6611 - val_accuracy: 0.6307\n",
      "Epoch 5/20\n",
      "332/332 [==============================] - 10s 30ms/step - loss: 0.6561 - accuracy: 0.6151 - val_loss: 0.6700 - val_accuracy: 0.6087\n",
      "Epoch 6/20\n",
      "332/332 [==============================] - 11s 32ms/step - loss: 0.6496 - accuracy: 0.6229 - val_loss: 0.6641 - val_accuracy: 0.6214\n",
      "Epoch 7/20\n",
      "332/332 [==============================] - 11s 33ms/step - loss: 0.6404 - accuracy: 0.6326 - val_loss: 0.6783 - val_accuracy: 0.5722\n",
      "Epoch 8/20\n",
      "332/332 [==============================] - 7s 21ms/step - loss: 0.6318 - accuracy: 0.6405 - val_loss: 0.6747 - val_accuracy: 0.6205\n",
      "Epoch 9/20\n",
      "332/332 [==============================] - 7s 21ms/step - loss: 0.6168 - accuracy: 0.6515 - val_loss: 0.6806 - val_accuracy: 0.6171\n",
      "Epoch 10/20\n",
      "332/332 [==============================] - 7s 21ms/step - loss: 0.6076 - accuracy: 0.6513 - val_loss: 0.6976 - val_accuracy: 0.5857\n",
      "Epoch 11/20\n",
      "332/332 [==============================] - 7s 21ms/step - loss: 0.5945 - accuracy: 0.6681 - val_loss: 0.7012 - val_accuracy: 0.6044\n",
      "Epoch 12/20\n",
      "332/332 [==============================] - 7s 20ms/step - loss: 0.5839 - accuracy: 0.6708 - val_loss: 0.7144 - val_accuracy: 0.5654\n",
      "Epoch 13/20\n",
      "332/332 [==============================] - 6s 19ms/step - loss: 0.5765 - accuracy: 0.6786 - val_loss: 0.7449 - val_accuracy: 0.5407\n",
      "Epoch 14/20\n",
      "332/332 [==============================] - 7s 20ms/step - loss: 0.5671 - accuracy: 0.6854 - val_loss: 0.7586 - val_accuracy: 0.5475\n",
      "Epoch 15/20\n",
      "332/332 [==============================] - 6s 18ms/step - loss: 0.5596 - accuracy: 0.6891 - val_loss: 0.7442 - val_accuracy: 0.5705\n",
      "Epoch 16/20\n",
      "332/332 [==============================] - 6s 18ms/step - loss: 0.5511 - accuracy: 0.6948 - val_loss: 0.7735 - val_accuracy: 0.5441\n",
      "Epoch 17/20\n",
      "332/332 [==============================] - 6s 18ms/step - loss: 0.5416 - accuracy: 0.7008 - val_loss: 0.7661 - val_accuracy: 0.5789\n",
      "Epoch 18/20\n",
      "332/332 [==============================] - 6s 19ms/step - loss: 0.5352 - accuracy: 0.7065 - val_loss: 0.8005 - val_accuracy: 0.5475\n",
      "Epoch 19/20\n",
      "332/332 [==============================] - 6s 18ms/step - loss: 0.5291 - accuracy: 0.7097 - val_loss: 0.7977 - val_accuracy: 0.5917\n",
      "Epoch 20/20\n",
      "332/332 [==============================] - 6s 19ms/step - loss: 0.5218 - accuracy: 0.7165 - val_loss: 0.8052 - val_accuracy: 0.5934\n",
      "369/369 [==============================] - 2s 5ms/step - loss: 0.5267 - accuracy: 0.7173\n",
      " 68/369 [====>.........................] - ETA: 0s"
     ]
    },
    {
     "name": "stderr",
     "output_type": "stream",
     "text": [
      "2023-05-04 11:28:48.858246: I tensorflow/core/grappler/optimizers/custom_graph_optimizer_registry.cc:113] Plugin optimizer for device_type GPU is enabled.\n"
     ]
    },
    {
     "name": "stdout",
     "output_type": "stream",
     "text": [
      "369/369 [==============================] - 1s 2ms/step\n",
      "NUM: 9\n",
      "Epoch 1/20\n"
     ]
    },
    {
     "name": "stderr",
     "output_type": "stream",
     "text": [
      "2023-05-04 11:28:50.152183: I tensorflow/core/grappler/optimizers/custom_graph_optimizer_registry.cc:113] Plugin optimizer for device_type GPU is enabled.\n"
     ]
    },
    {
     "name": "stdout",
     "output_type": "stream",
     "text": [
      "332/332 [==============================] - ETA: 0s - loss: 0.5874 - accuracy: 0.7320"
     ]
    },
    {
     "name": "stderr",
     "output_type": "stream",
     "text": [
      "2023-05-04 11:29:02.175722: I tensorflow/core/grappler/optimizers/custom_graph_optimizer_registry.cc:113] Plugin optimizer for device_type GPU is enabled.\n",
      "WARNING:absl:Found untraced functions such as _jit_compiled_convolution_op while saving (showing 1 of 1). These functions will not be directly callable after loading.\n"
     ]
    },
    {
     "name": "stdout",
     "output_type": "stream",
     "text": [
      "INFO:tensorflow:Assets written to: 5-12_9/checkpoint/assets\n"
     ]
    },
    {
     "name": "stderr",
     "output_type": "stream",
     "text": [
      "INFO:tensorflow:Assets written to: 5-12_9/checkpoint/assets\n"
     ]
    },
    {
     "name": "stdout",
     "output_type": "stream",
     "text": [
      "332/332 [==============================] - 14s 39ms/step - loss: 0.5874 - accuracy: 0.7320 - val_loss: 0.5490 - val_accuracy: 0.7657\n",
      "Epoch 2/20\n",
      "332/332 [==============================] - 16s 47ms/step - loss: 0.5795 - accuracy: 0.7321 - val_loss: 0.5416 - val_accuracy: 0.7657\n",
      "Epoch 3/20\n",
      "332/332 [==============================] - 18s 55ms/step - loss: 0.5734 - accuracy: 0.7321 - val_loss: 0.5463 - val_accuracy: 0.7657\n",
      "Epoch 4/20\n",
      "332/332 [==============================] - 20s 61ms/step - loss: 0.5664 - accuracy: 0.7322 - val_loss: 0.5392 - val_accuracy: 0.7657\n",
      "Epoch 5/20\n",
      "332/332 [==============================] - 18s 54ms/step - loss: 0.5602 - accuracy: 0.7324 - val_loss: 0.5431 - val_accuracy: 0.7657\n",
      "Epoch 6/20\n",
      "332/332 [==============================] - 20s 60ms/step - loss: 0.5511 - accuracy: 0.7343 - val_loss: 0.5500 - val_accuracy: 0.7581\n",
      "Epoch 7/20\n",
      "332/332 [==============================] - 24s 73ms/step - loss: 0.5433 - accuracy: 0.7412 - val_loss: 0.5522 - val_accuracy: 0.7606\n",
      "Epoch 8/20\n",
      "332/332 [==============================] - 22s 66ms/step - loss: 0.5336 - accuracy: 0.7470 - val_loss: 0.5636 - val_accuracy: 0.7504\n",
      "Epoch 9/20\n",
      "332/332 [==============================] - 23s 68ms/step - loss: 0.5226 - accuracy: 0.7509 - val_loss: 0.5716 - val_accuracy: 0.7453\n",
      "Epoch 10/20\n",
      "332/332 [==============================] - 22s 66ms/step - loss: 0.5134 - accuracy: 0.7597 - val_loss: 0.5710 - val_accuracy: 0.7530\n",
      "Epoch 11/20\n",
      "332/332 [==============================] - 22s 67ms/step - loss: 0.5023 - accuracy: 0.7621 - val_loss: 0.5832 - val_accuracy: 0.7487\n",
      "Epoch 12/20\n",
      "332/332 [==============================] - 18s 53ms/step - loss: 0.4921 - accuracy: 0.7695 - val_loss: 0.5933 - val_accuracy: 0.7351\n",
      "Epoch 13/20\n",
      "332/332 [==============================] - 21s 62ms/step - loss: 0.4835 - accuracy: 0.7701 - val_loss: 0.6258 - val_accuracy: 0.7046\n",
      "Epoch 14/20\n",
      "332/332 [==============================] - 20s 61ms/step - loss: 0.4760 - accuracy: 0.7773 - val_loss: 0.6236 - val_accuracy: 0.7088\n",
      "Epoch 15/20\n",
      "332/332 [==============================] - 18s 53ms/step - loss: 0.4650 - accuracy: 0.7820 - val_loss: 0.6309 - val_accuracy: 0.7250\n",
      "Epoch 16/20\n",
      "332/332 [==============================] - 18s 54ms/step - loss: 0.4587 - accuracy: 0.7823 - val_loss: 0.6572 - val_accuracy: 0.7419\n",
      "Epoch 17/20\n",
      "332/332 [==============================] - 19s 57ms/step - loss: 0.4518 - accuracy: 0.7877 - val_loss: 0.6384 - val_accuracy: 0.7334\n",
      "Epoch 18/20\n",
      "332/332 [==============================] - 18s 54ms/step - loss: 0.4406 - accuracy: 0.7916 - val_loss: 0.6703 - val_accuracy: 0.7326\n",
      "Epoch 19/20\n",
      "332/332 [==============================] - 15s 46ms/step - loss: 0.4363 - accuracy: 0.7966 - val_loss: 0.6864 - val_accuracy: 0.7462\n",
      "Epoch 20/20\n",
      "332/332 [==============================] - 15s 45ms/step - loss: 0.4296 - accuracy: 0.8003 - val_loss: 0.7005 - val_accuracy: 0.7445\n",
      "369/369 [==============================] - 2s 5ms/step - loss: 0.4381 - accuracy: 0.8007\n",
      " 40/369 [==>...........................] - ETA: 0s"
     ]
    },
    {
     "name": "stderr",
     "output_type": "stream",
     "text": [
      "2023-05-04 11:35:11.551702: I tensorflow/core/grappler/optimizers/custom_graph_optimizer_registry.cc:113] Plugin optimizer for device_type GPU is enabled.\n"
     ]
    },
    {
     "name": "stdout",
     "output_type": "stream",
     "text": [
      "369/369 [==============================] - 1s 2ms/step\n",
      "NUM: 10\n",
      "Epoch 1/20\n"
     ]
    },
    {
     "name": "stderr",
     "output_type": "stream",
     "text": [
      "2023-05-04 11:35:12.820609: I tensorflow/core/grappler/optimizers/custom_graph_optimizer_registry.cc:113] Plugin optimizer for device_type GPU is enabled.\n"
     ]
    },
    {
     "name": "stdout",
     "output_type": "stream",
     "text": [
      "332/332 [==============================] - ETA: 0s - loss: 0.6908 - accuracy: 0.5284"
     ]
    },
    {
     "name": "stderr",
     "output_type": "stream",
     "text": [
      "2023-05-04 11:35:25.927227: I tensorflow/core/grappler/optimizers/custom_graph_optimizer_registry.cc:113] Plugin optimizer for device_type GPU is enabled.\n",
      "WARNING:absl:Found untraced functions such as _jit_compiled_convolution_op while saving (showing 1 of 1). These functions will not be directly callable after loading.\n"
     ]
    },
    {
     "name": "stdout",
     "output_type": "stream",
     "text": [
      "INFO:tensorflow:Assets written to: 5-12_10/checkpoint/assets\n"
     ]
    },
    {
     "name": "stderr",
     "output_type": "stream",
     "text": [
      "INFO:tensorflow:Assets written to: 5-12_10/checkpoint/assets\n"
     ]
    },
    {
     "name": "stdout",
     "output_type": "stream",
     "text": [
      "332/332 [==============================] - 15s 42ms/step - loss: 0.6908 - accuracy: 0.5284 - val_loss: 0.6891 - val_accuracy: 0.5289\n",
      "Epoch 2/20\n",
      "332/332 [==============================] - ETA: 0s - loss: 0.6876 - accuracy: 0.5450"
     ]
    },
    {
     "name": "stderr",
     "output_type": "stream",
     "text": [
      "WARNING:absl:Found untraced functions such as _jit_compiled_convolution_op while saving (showing 1 of 1). These functions will not be directly callable after loading.\n"
     ]
    },
    {
     "name": "stdout",
     "output_type": "stream",
     "text": [
      "INFO:tensorflow:Assets written to: 5-12_10/checkpoint/assets\n"
     ]
    },
    {
     "name": "stderr",
     "output_type": "stream",
     "text": [
      "INFO:tensorflow:Assets written to: 5-12_10/checkpoint/assets\n"
     ]
    },
    {
     "name": "stdout",
     "output_type": "stream",
     "text": [
      "332/332 [==============================] - 14s 41ms/step - loss: 0.6876 - accuracy: 0.5450 - val_loss: 0.6861 - val_accuracy: 0.5416\n",
      "Epoch 3/20\n",
      "332/332 [==============================] - ETA: 0s - loss: 0.6825 - accuracy: 0.5608"
     ]
    },
    {
     "name": "stderr",
     "output_type": "stream",
     "text": [
      "WARNING:absl:Found untraced functions such as _jit_compiled_convolution_op while saving (showing 1 of 1). These functions will not be directly callable after loading.\n"
     ]
    },
    {
     "name": "stdout",
     "output_type": "stream",
     "text": [
      "INFO:tensorflow:Assets written to: 5-12_10/checkpoint/assets\n"
     ]
    },
    {
     "name": "stderr",
     "output_type": "stream",
     "text": [
      "INFO:tensorflow:Assets written to: 5-12_10/checkpoint/assets\n"
     ]
    },
    {
     "name": "stdout",
     "output_type": "stream",
     "text": [
      "332/332 [==============================] - 17s 53ms/step - loss: 0.6825 - accuracy: 0.5608 - val_loss: 0.6875 - val_accuracy: 0.5501\n",
      "Epoch 4/20\n",
      "332/332 [==============================] - ETA: 0s - loss: 0.6782 - accuracy: 0.5742"
     ]
    },
    {
     "name": "stderr",
     "output_type": "stream",
     "text": [
      "WARNING:absl:Found untraced functions such as _jit_compiled_convolution_op while saving (showing 1 of 1). These functions will not be directly callable after loading.\n"
     ]
    },
    {
     "name": "stdout",
     "output_type": "stream",
     "text": [
      "INFO:tensorflow:Assets written to: 5-12_10/checkpoint/assets\n"
     ]
    },
    {
     "name": "stderr",
     "output_type": "stream",
     "text": [
      "INFO:tensorflow:Assets written to: 5-12_10/checkpoint/assets\n"
     ]
    },
    {
     "name": "stdout",
     "output_type": "stream",
     "text": [
      "332/332 [==============================] - 17s 52ms/step - loss: 0.6782 - accuracy: 0.5742 - val_loss: 0.6860 - val_accuracy: 0.5552\n",
      "Epoch 5/20\n",
      "332/332 [==============================] - 12s 38ms/step - loss: 0.6718 - accuracy: 0.5865 - val_loss: 0.6887 - val_accuracy: 0.5416\n",
      "Epoch 6/20\n",
      "331/332 [============================>.] - ETA: 0s - loss: 0.6659 - accuracy: 0.5896"
     ]
    },
    {
     "name": "stderr",
     "output_type": "stream",
     "text": [
      "WARNING:absl:Found untraced functions such as _jit_compiled_convolution_op while saving (showing 1 of 1). These functions will not be directly callable after loading.\n"
     ]
    },
    {
     "name": "stdout",
     "output_type": "stream",
     "text": [
      "INFO:tensorflow:Assets written to: 5-12_10/checkpoint/assets\n"
     ]
    },
    {
     "name": "stderr",
     "output_type": "stream",
     "text": [
      "INFO:tensorflow:Assets written to: 5-12_10/checkpoint/assets\n"
     ]
    },
    {
     "name": "stdout",
     "output_type": "stream",
     "text": [
      "332/332 [==============================] - 12s 35ms/step - loss: 0.6660 - accuracy: 0.5894 - val_loss: 0.6891 - val_accuracy: 0.5620\n",
      "Epoch 7/20\n",
      "332/332 [==============================] - 9s 27ms/step - loss: 0.6567 - accuracy: 0.6034 - val_loss: 0.7006 - val_accuracy: 0.5475\n",
      "Epoch 8/20\n",
      "332/332 [==============================] - 10s 29ms/step - loss: 0.6471 - accuracy: 0.6086 - val_loss: 0.7009 - val_accuracy: 0.5238\n",
      "Epoch 9/20\n",
      "332/332 [==============================] - 7s 22ms/step - loss: 0.6339 - accuracy: 0.6223 - val_loss: 0.7086 - val_accuracy: 0.5416\n",
      "Epoch 10/20\n",
      "332/332 [==============================] - 8s 23ms/step - loss: 0.6229 - accuracy: 0.6268 - val_loss: 0.7210 - val_accuracy: 0.5441\n",
      "Epoch 11/20\n",
      "332/332 [==============================] - 8s 23ms/step - loss: 0.6110 - accuracy: 0.6409 - val_loss: 0.7386 - val_accuracy: 0.5348\n",
      "Epoch 12/20\n",
      "332/332 [==============================] - 7s 22ms/step - loss: 0.5991 - accuracy: 0.6448 - val_loss: 0.7494 - val_accuracy: 0.5331\n",
      "Epoch 13/20\n",
      "332/332 [==============================] - 7s 21ms/step - loss: 0.5831 - accuracy: 0.6555 - val_loss: 0.7776 - val_accuracy: 0.5187\n",
      "Epoch 14/20\n",
      "332/332 [==============================] - 7s 20ms/step - loss: 0.5748 - accuracy: 0.6631 - val_loss: 0.7787 - val_accuracy: 0.5229\n",
      "Epoch 15/20\n",
      "332/332 [==============================] - 7s 20ms/step - loss: 0.5687 - accuracy: 0.6685 - val_loss: 0.8069 - val_accuracy: 0.5289\n",
      "Epoch 16/20\n",
      "332/332 [==============================] - 7s 20ms/step - loss: 0.5547 - accuracy: 0.6721 - val_loss: 0.8168 - val_accuracy: 0.5161\n",
      "Epoch 17/20\n",
      "332/332 [==============================] - 7s 20ms/step - loss: 0.5494 - accuracy: 0.6806 - val_loss: 0.8430 - val_accuracy: 0.5255\n",
      "Epoch 18/20\n",
      "332/332 [==============================] - 7s 21ms/step - loss: 0.5417 - accuracy: 0.6816 - val_loss: 0.8669 - val_accuracy: 0.5195\n",
      "Epoch 19/20\n",
      "332/332 [==============================] - 8s 24ms/step - loss: 0.5375 - accuracy: 0.6878 - val_loss: 0.9058 - val_accuracy: 0.5221\n",
      "Epoch 20/20\n",
      "332/332 [==============================] - 8s 25ms/step - loss: 0.5277 - accuracy: 0.6905 - val_loss: 0.9155 - val_accuracy: 0.5314\n",
      "369/369 [==============================] - 2s 5ms/step - loss: 0.5429 - accuracy: 0.6932\n",
      " 79/369 [=====>........................] - ETA: 0s"
     ]
    },
    {
     "name": "stderr",
     "output_type": "stream",
     "text": [
      "2023-05-04 11:38:26.457595: I tensorflow/core/grappler/optimizers/custom_graph_optimizer_registry.cc:113] Plugin optimizer for device_type GPU is enabled.\n"
     ]
    },
    {
     "name": "stdout",
     "output_type": "stream",
     "text": [
      "369/369 [==============================] - 1s 2ms/step\n",
      "NUM: 11\n",
      "Epoch 1/20\n"
     ]
    },
    {
     "name": "stderr",
     "output_type": "stream",
     "text": [
      "2023-05-04 11:38:27.888698: I tensorflow/core/grappler/optimizers/custom_graph_optimizer_registry.cc:113] Plugin optimizer for device_type GPU is enabled.\n"
     ]
    },
    {
     "name": "stdout",
     "output_type": "stream",
     "text": [
      "332/332 [==============================] - ETA: 0s - loss: 0.6536 - accuracy: 0.6440"
     ]
    },
    {
     "name": "stderr",
     "output_type": "stream",
     "text": [
      "2023-05-04 11:38:43.054492: I tensorflow/core/grappler/optimizers/custom_graph_optimizer_registry.cc:113] Plugin optimizer for device_type GPU is enabled.\n",
      "WARNING:absl:Found untraced functions such as _jit_compiled_convolution_op while saving (showing 1 of 1). These functions will not be directly callable after loading.\n"
     ]
    },
    {
     "name": "stdout",
     "output_type": "stream",
     "text": [
      "INFO:tensorflow:Assets written to: 5-12_11/checkpoint/assets\n"
     ]
    },
    {
     "name": "stderr",
     "output_type": "stream",
     "text": [
      "INFO:tensorflow:Assets written to: 5-12_11/checkpoint/assets\n"
     ]
    },
    {
     "name": "stdout",
     "output_type": "stream",
     "text": [
      "332/332 [==============================] - 17s 48ms/step - loss: 0.6536 - accuracy: 0.6440 - val_loss: 0.6527 - val_accuracy: 0.6452\n",
      "Epoch 2/20\n",
      "332/332 [==============================] - 18s 54ms/step - loss: 0.6472 - accuracy: 0.6439 - val_loss: 0.6465 - val_accuracy: 0.6452\n",
      "Epoch 3/20\n",
      "332/332 [==============================] - 19s 59ms/step - loss: 0.6409 - accuracy: 0.6440 - val_loss: 0.6518 - val_accuracy: 0.6452\n",
      "Epoch 4/20\n",
      "332/332 [==============================] - ETA: 0s - loss: 0.6358 - accuracy: 0.6490"
     ]
    },
    {
     "name": "stderr",
     "output_type": "stream",
     "text": [
      "WARNING:absl:Found untraced functions such as _jit_compiled_convolution_op while saving (showing 1 of 1). These functions will not be directly callable after loading.\n"
     ]
    },
    {
     "name": "stdout",
     "output_type": "stream",
     "text": [
      "INFO:tensorflow:Assets written to: 5-12_11/checkpoint/assets\n"
     ]
    },
    {
     "name": "stderr",
     "output_type": "stream",
     "text": [
      "INFO:tensorflow:Assets written to: 5-12_11/checkpoint/assets\n"
     ]
    },
    {
     "name": "stdout",
     "output_type": "stream",
     "text": [
      "332/332 [==============================] - 17s 51ms/step - loss: 0.6358 - accuracy: 0.6490 - val_loss: 0.6440 - val_accuracy: 0.6469\n",
      "Epoch 5/20\n",
      "332/332 [==============================] - 22s 65ms/step - loss: 0.6284 - accuracy: 0.6560 - val_loss: 0.6450 - val_accuracy: 0.6316\n",
      "Epoch 6/20\n",
      "332/332 [==============================] - 16s 49ms/step - loss: 0.6165 - accuracy: 0.6649 - val_loss: 0.6452 - val_accuracy: 0.6401\n",
      "Epoch 7/20\n",
      "332/332 [==============================] - 15s 44ms/step - loss: 0.6081 - accuracy: 0.6693 - val_loss: 0.6487 - val_accuracy: 0.6231\n",
      "Epoch 8/20\n",
      "332/332 [==============================] - 12s 37ms/step - loss: 0.5985 - accuracy: 0.6797 - val_loss: 0.6432 - val_accuracy: 0.6307\n",
      "Epoch 9/20\n",
      "332/332 [==============================] - 12s 37ms/step - loss: 0.5889 - accuracy: 0.6867 - val_loss: 0.6491 - val_accuracy: 0.6375\n",
      "Epoch 10/20\n",
      "332/332 [==============================] - 11s 34ms/step - loss: 0.5783 - accuracy: 0.6897 - val_loss: 0.6581 - val_accuracy: 0.6324\n",
      "Epoch 11/20\n",
      "332/332 [==============================] - 12s 37ms/step - loss: 0.5663 - accuracy: 0.7004 - val_loss: 0.6635 - val_accuracy: 0.6333\n",
      "Epoch 12/20\n",
      "332/332 [==============================] - 12s 36ms/step - loss: 0.5544 - accuracy: 0.7111 - val_loss: 0.6724 - val_accuracy: 0.6401\n",
      "Epoch 13/20\n",
      "332/332 [==============================] - 12s 35ms/step - loss: 0.5472 - accuracy: 0.7134 - val_loss: 0.6805 - val_accuracy: 0.6290\n",
      "Epoch 14/20\n",
      "332/332 [==============================] - 11s 32ms/step - loss: 0.5383 - accuracy: 0.7162 - val_loss: 0.6866 - val_accuracy: 0.6316\n",
      "Epoch 15/20\n",
      "332/332 [==============================] - 12s 36ms/step - loss: 0.5251 - accuracy: 0.7268 - val_loss: 0.7089 - val_accuracy: 0.6307\n",
      "Epoch 16/20\n",
      "332/332 [==============================] - 10s 30ms/step - loss: 0.5196 - accuracy: 0.7289 - val_loss: 0.7080 - val_accuracy: 0.6197\n",
      "Epoch 17/20\n",
      "332/332 [==============================] - 12s 36ms/step - loss: 0.5072 - accuracy: 0.7340 - val_loss: 0.7171 - val_accuracy: 0.6273\n",
      "Epoch 18/20\n",
      "332/332 [==============================] - 11s 32ms/step - loss: 0.5005 - accuracy: 0.7385 - val_loss: 0.7676 - val_accuracy: 0.6307\n",
      "Epoch 19/20\n",
      "332/332 [==============================] - 11s 32ms/step - loss: 0.4921 - accuracy: 0.7454 - val_loss: 0.7530 - val_accuracy: 0.6290\n",
      "Epoch 20/20\n",
      "332/332 [==============================] - 11s 32ms/step - loss: 0.4849 - accuracy: 0.7481 - val_loss: 0.7843 - val_accuracy: 0.6256\n",
      "369/369 [==============================] - 2s 5ms/step - loss: 0.4926 - accuracy: 0.7504\n",
      " 37/369 [==>...........................] - ETA: 0s"
     ]
    },
    {
     "name": "stderr",
     "output_type": "stream",
     "text": [
      "2023-05-04 11:43:01.219593: I tensorflow/core/grappler/optimizers/custom_graph_optimizer_registry.cc:113] Plugin optimizer for device_type GPU is enabled.\n"
     ]
    },
    {
     "name": "stdout",
     "output_type": "stream",
     "text": [
      "369/369 [==============================] - 1s 2ms/step\n",
      "NUM: 12\n",
      "Epoch 1/20\n"
     ]
    },
    {
     "name": "stderr",
     "output_type": "stream",
     "text": [
      "2023-05-04 11:43:02.918238: I tensorflow/core/grappler/optimizers/custom_graph_optimizer_registry.cc:113] Plugin optimizer for device_type GPU is enabled.\n"
     ]
    },
    {
     "name": "stdout",
     "output_type": "stream",
     "text": [
      "332/332 [==============================] - ETA: 0s - loss: 0.4239 - accuracy: 0.8553"
     ]
    },
    {
     "name": "stderr",
     "output_type": "stream",
     "text": [
      "2023-05-04 11:43:18.961607: I tensorflow/core/grappler/optimizers/custom_graph_optimizer_registry.cc:113] Plugin optimizer for device_type GPU is enabled.\n",
      "WARNING:absl:Found untraced functions such as _jit_compiled_convolution_op while saving (showing 1 of 1). These functions will not be directly callable after loading.\n"
     ]
    },
    {
     "name": "stdout",
     "output_type": "stream",
     "text": [
      "INFO:tensorflow:Assets written to: 5-12_12/checkpoint/assets\n"
     ]
    },
    {
     "name": "stderr",
     "output_type": "stream",
     "text": [
      "INFO:tensorflow:Assets written to: 5-12_12/checkpoint/assets\n"
     ]
    },
    {
     "name": "stdout",
     "output_type": "stream",
     "text": [
      "332/332 [==============================] - 18s 50ms/step - loss: 0.4239 - accuracy: 0.8553 - val_loss: 0.3873 - val_accuracy: 0.8710\n",
      "Epoch 2/20\n",
      "332/332 [==============================] - 15s 47ms/step - loss: 0.4143 - accuracy: 0.8560 - val_loss: 0.3849 - val_accuracy: 0.8710\n",
      "Epoch 3/20\n",
      "332/332 [==============================] - 15s 46ms/step - loss: 0.4109 - accuracy: 0.8560 - val_loss: 0.3848 - val_accuracy: 0.8710\n",
      "Epoch 4/20\n",
      "332/332 [==============================] - 21s 62ms/step - loss: 0.4084 - accuracy: 0.8560 - val_loss: 0.3882 - val_accuracy: 0.8710\n",
      "Epoch 5/20\n",
      "332/332 [==============================] - 20s 61ms/step - loss: 0.4047 - accuracy: 0.8560 - val_loss: 0.3928 - val_accuracy: 0.8710\n",
      "Epoch 6/20\n",
      "332/332 [==============================] - 15s 45ms/step - loss: 0.4009 - accuracy: 0.8560 - val_loss: 0.3992 - val_accuracy: 0.8710\n",
      "Epoch 7/20\n",
      "332/332 [==============================] - 22s 65ms/step - loss: 0.3937 - accuracy: 0.8560 - val_loss: 0.3986 - val_accuracy: 0.8710\n",
      "Epoch 8/20\n",
      "332/332 [==============================] - 19s 56ms/step - loss: 0.3864 - accuracy: 0.8560 - val_loss: 0.4000 - val_accuracy: 0.8710\n",
      "Epoch 9/20\n",
      "332/332 [==============================] - 17s 51ms/step - loss: 0.3808 - accuracy: 0.8566 - val_loss: 0.3991 - val_accuracy: 0.8710\n",
      "Epoch 10/20\n",
      "332/332 [==============================] - 19s 57ms/step - loss: 0.3751 - accuracy: 0.8577 - val_loss: 0.4042 - val_accuracy: 0.8710\n",
      "Epoch 11/20\n",
      "332/332 [==============================] - 17s 52ms/step - loss: 0.3690 - accuracy: 0.8597 - val_loss: 0.4178 - val_accuracy: 0.8701\n",
      "Epoch 12/20\n",
      "332/332 [==============================] - 13s 39ms/step - loss: 0.3623 - accuracy: 0.8601 - val_loss: 0.4237 - val_accuracy: 0.8710\n",
      "Epoch 13/20\n",
      "332/332 [==============================] - 13s 40ms/step - loss: 0.3588 - accuracy: 0.8637 - val_loss: 0.4243 - val_accuracy: 0.8701\n",
      "Epoch 14/20\n",
      "332/332 [==============================] - 14s 43ms/step - loss: 0.3549 - accuracy: 0.8633 - val_loss: 0.4294 - val_accuracy: 0.8684\n",
      "Epoch 15/20\n",
      "332/332 [==============================] - 9s 26ms/step - loss: 0.3450 - accuracy: 0.8668 - val_loss: 0.4428 - val_accuracy: 0.8659\n",
      "Epoch 16/20\n",
      "332/332 [==============================] - 9s 28ms/step - loss: 0.3402 - accuracy: 0.8680 - val_loss: 0.4422 - val_accuracy: 0.8659\n",
      "Epoch 17/20\n",
      "332/332 [==============================] - 13s 39ms/step - loss: 0.3364 - accuracy: 0.8672 - val_loss: 0.4529 - val_accuracy: 0.8659\n",
      "Epoch 18/20\n",
      "332/332 [==============================] - 15s 44ms/step - loss: 0.3299 - accuracy: 0.8708 - val_loss: 0.4599 - val_accuracy: 0.8642\n",
      "Epoch 19/20\n",
      "332/332 [==============================] - 15s 45ms/step - loss: 0.3262 - accuracy: 0.8729 - val_loss: 0.4677 - val_accuracy: 0.8582\n",
      "Epoch 20/20\n",
      "332/332 [==============================] - 7s 20ms/step - loss: 0.3202 - accuracy: 0.8760 - val_loss: 0.4860 - val_accuracy: 0.8599\n",
      "369/369 [==============================] - 2s 5ms/step - loss: 0.3133 - accuracy: 0.8785\n",
      " 42/369 [==>...........................] - ETA: 0s"
     ]
    },
    {
     "name": "stderr",
     "output_type": "stream",
     "text": [
      "2023-05-04 11:48:10.492069: I tensorflow/core/grappler/optimizers/custom_graph_optimizer_registry.cc:113] Plugin optimizer for device_type GPU is enabled.\n"
     ]
    },
    {
     "name": "stdout",
     "output_type": "stream",
     "text": [
      "369/369 [==============================] - 1s 3ms/step\n",
      "NUM: 13\n",
      "Epoch 1/20\n"
     ]
    },
    {
     "name": "stderr",
     "output_type": "stream",
     "text": [
      "2023-05-04 11:48:11.831817: I tensorflow/core/grappler/optimizers/custom_graph_optimizer_registry.cc:113] Plugin optimizer for device_type GPU is enabled.\n"
     ]
    },
    {
     "name": "stdout",
     "output_type": "stream",
     "text": [
      "332/332 [==============================] - ETA: 0s - loss: 0.5856 - accuracy: 0.7266"
     ]
    },
    {
     "name": "stderr",
     "output_type": "stream",
     "text": [
      "2023-05-04 11:48:30.662256: I tensorflow/core/grappler/optimizers/custom_graph_optimizer_registry.cc:113] Plugin optimizer for device_type GPU is enabled.\n",
      "WARNING:absl:Found untraced functions such as _jit_compiled_convolution_op while saving (showing 1 of 1). These functions will not be directly callable after loading.\n"
     ]
    },
    {
     "name": "stdout",
     "output_type": "stream",
     "text": [
      "INFO:tensorflow:Assets written to: 5-12_13/checkpoint/assets\n"
     ]
    },
    {
     "name": "stderr",
     "output_type": "stream",
     "text": [
      "INFO:tensorflow:Assets written to: 5-12_13/checkpoint/assets\n"
     ]
    },
    {
     "name": "stdout",
     "output_type": "stream",
     "text": [
      "332/332 [==============================] - 21s 60ms/step - loss: 0.5856 - accuracy: 0.7266 - val_loss: 0.5730 - val_accuracy: 0.7360\n",
      "Epoch 2/20\n",
      "332/332 [==============================] - 16s 48ms/step - loss: 0.5769 - accuracy: 0.7288 - val_loss: 0.5642 - val_accuracy: 0.7360\n",
      "Epoch 3/20\n",
      "332/332 [==============================] - 14s 42ms/step - loss: 0.5719 - accuracy: 0.7293 - val_loss: 0.5661 - val_accuracy: 0.7360\n",
      "Epoch 4/20\n",
      "332/332 [==============================] - 15s 44ms/step - loss: 0.5675 - accuracy: 0.7289 - val_loss: 0.5645 - val_accuracy: 0.7351\n",
      "Epoch 5/20\n",
      "332/332 [==============================] - ETA: 0s - loss: 0.5635 - accuracy: 0.7300"
     ]
    },
    {
     "name": "stderr",
     "output_type": "stream",
     "text": [
      "WARNING:absl:Found untraced functions such as _jit_compiled_convolution_op while saving (showing 1 of 1). These functions will not be directly callable after loading.\n"
     ]
    },
    {
     "name": "stdout",
     "output_type": "stream",
     "text": [
      "INFO:tensorflow:Assets written to: 5-12_13/checkpoint/assets\n"
     ]
    },
    {
     "name": "stderr",
     "output_type": "stream",
     "text": [
      "INFO:tensorflow:Assets written to: 5-12_13/checkpoint/assets\n"
     ]
    },
    {
     "name": "stdout",
     "output_type": "stream",
     "text": [
      "332/332 [==============================] - 16s 49ms/step - loss: 0.5635 - accuracy: 0.7300 - val_loss: 0.5708 - val_accuracy: 0.7385\n",
      "Epoch 6/20\n",
      "332/332 [==============================] - 12s 36ms/step - loss: 0.5580 - accuracy: 0.7320 - val_loss: 0.5751 - val_accuracy: 0.7284\n",
      "Epoch 7/20\n",
      "332/332 [==============================] - 11s 34ms/step - loss: 0.5499 - accuracy: 0.7343 - val_loss: 0.5825 - val_accuracy: 0.7258\n",
      "Epoch 8/20\n",
      "332/332 [==============================] - 12s 35ms/step - loss: 0.5416 - accuracy: 0.7396 - val_loss: 0.5828 - val_accuracy: 0.7351\n",
      "Epoch 9/20\n",
      "332/332 [==============================] - 8s 25ms/step - loss: 0.5339 - accuracy: 0.7414 - val_loss: 0.5957 - val_accuracy: 0.7224\n",
      "Epoch 10/20\n",
      "332/332 [==============================] - 7s 21ms/step - loss: 0.5260 - accuracy: 0.7438 - val_loss: 0.6015 - val_accuracy: 0.7122\n",
      "Epoch 11/20\n",
      "332/332 [==============================] - 7s 21ms/step - loss: 0.5167 - accuracy: 0.7474 - val_loss: 0.6214 - val_accuracy: 0.6952\n",
      "Epoch 12/20\n",
      "332/332 [==============================] - 7s 20ms/step - loss: 0.5098 - accuracy: 0.7533 - val_loss: 0.6199 - val_accuracy: 0.7088\n",
      "Epoch 13/20\n",
      "332/332 [==============================] - 7s 20ms/step - loss: 0.5005 - accuracy: 0.7563 - val_loss: 0.6229 - val_accuracy: 0.7054\n",
      "Epoch 14/20\n",
      "332/332 [==============================] - 6s 20ms/step - loss: 0.4907 - accuracy: 0.7628 - val_loss: 0.6712 - val_accuracy: 0.6604\n",
      "Epoch 15/20\n",
      "332/332 [==============================] - 6s 19ms/step - loss: 0.4832 - accuracy: 0.7658 - val_loss: 0.6466 - val_accuracy: 0.7267\n",
      "Epoch 16/20\n",
      "332/332 [==============================] - 6s 20ms/step - loss: 0.4734 - accuracy: 0.7720 - val_loss: 0.6721 - val_accuracy: 0.6876\n",
      "Epoch 17/20\n",
      "332/332 [==============================] - 7s 20ms/step - loss: 0.4656 - accuracy: 0.7778 - val_loss: 0.6782 - val_accuracy: 0.7020\n",
      "Epoch 18/20\n",
      "332/332 [==============================] - 6s 20ms/step - loss: 0.4573 - accuracy: 0.7806 - val_loss: 0.6985 - val_accuracy: 0.6952\n",
      "Epoch 19/20\n",
      "332/332 [==============================] - 6s 19ms/step - loss: 0.4511 - accuracy: 0.7821 - val_loss: 0.7325 - val_accuracy: 0.6672\n",
      "Epoch 20/20\n",
      "332/332 [==============================] - 7s 20ms/step - loss: 0.4453 - accuracy: 0.7876 - val_loss: 0.7467 - val_accuracy: 0.6842\n",
      "369/369 [==============================] - 2s 5ms/step - loss: 0.4513 - accuracy: 0.7967\n",
      " 40/369 [==>...........................] - ETA: 0s"
     ]
    },
    {
     "name": "stderr",
     "output_type": "stream",
     "text": [
      "2023-05-04 11:51:30.597580: I tensorflow/core/grappler/optimizers/custom_graph_optimizer_registry.cc:113] Plugin optimizer for device_type GPU is enabled.\n"
     ]
    },
    {
     "name": "stdout",
     "output_type": "stream",
     "text": [
      "369/369 [==============================] - 1s 2ms/step\n",
      "NUM: 14\n",
      "Epoch 1/20\n"
     ]
    },
    {
     "name": "stderr",
     "output_type": "stream",
     "text": [
      "2023-05-04 11:51:31.797908: I tensorflow/core/grappler/optimizers/custom_graph_optimizer_registry.cc:113] Plugin optimizer for device_type GPU is enabled.\n"
     ]
    },
    {
     "name": "stdout",
     "output_type": "stream",
     "text": [
      "332/332 [==============================] - ETA: 0s - loss: 0.6096 - accuracy: 0.7065"
     ]
    },
    {
     "name": "stderr",
     "output_type": "stream",
     "text": [
      "2023-05-04 11:51:47.000020: I tensorflow/core/grappler/optimizers/custom_graph_optimizer_registry.cc:113] Plugin optimizer for device_type GPU is enabled.\n",
      "WARNING:absl:Found untraced functions such as _jit_compiled_convolution_op while saving (showing 1 of 1). These functions will not be directly callable after loading.\n"
     ]
    },
    {
     "name": "stdout",
     "output_type": "stream",
     "text": [
      "INFO:tensorflow:Assets written to: 13-22_14/checkpoint/assets\n"
     ]
    },
    {
     "name": "stderr",
     "output_type": "stream",
     "text": [
      "INFO:tensorflow:Assets written to: 13-22_14/checkpoint/assets\n"
     ]
    },
    {
     "name": "stdout",
     "output_type": "stream",
     "text": [
      "332/332 [==============================] - 17s 49ms/step - loss: 0.6096 - accuracy: 0.7065 - val_loss: 0.5854 - val_accuracy: 0.7385\n",
      "Epoch 2/20\n",
      "332/332 [==============================] - 10s 31ms/step - loss: 0.6048 - accuracy: 0.7069 - val_loss: 0.5758 - val_accuracy: 0.7385\n",
      "Epoch 3/20\n",
      "332/332 [==============================] - 8s 25ms/step - loss: 0.5966 - accuracy: 0.7069 - val_loss: 0.5750 - val_accuracy: 0.7385\n",
      "Epoch 4/20\n",
      "332/332 [==============================] - 8s 25ms/step - loss: 0.5844 - accuracy: 0.7069 - val_loss: 0.5826 - val_accuracy: 0.7385\n",
      "Epoch 5/20\n",
      "332/332 [==============================] - 10s 29ms/step - loss: 0.5741 - accuracy: 0.7068 - val_loss: 0.5875 - val_accuracy: 0.7385\n",
      "Epoch 6/20\n",
      "332/332 [==============================] - 9s 26ms/step - loss: 0.5619 - accuracy: 0.7106 - val_loss: 0.5991 - val_accuracy: 0.7326\n",
      "Epoch 7/20\n",
      "332/332 [==============================] - 8s 25ms/step - loss: 0.5502 - accuracy: 0.7107 - val_loss: 0.6077 - val_accuracy: 0.7224\n",
      "Epoch 8/20\n",
      "332/332 [==============================] - 9s 27ms/step - loss: 0.5350 - accuracy: 0.7204 - val_loss: 0.6130 - val_accuracy: 0.7292\n",
      "Epoch 9/20\n",
      "332/332 [==============================] - 10s 30ms/step - loss: 0.5230 - accuracy: 0.7296 - val_loss: 0.6389 - val_accuracy: 0.6630\n",
      "Epoch 10/20\n",
      "332/332 [==============================] - 13s 38ms/step - loss: 0.5111 - accuracy: 0.7358 - val_loss: 0.6333 - val_accuracy: 0.7114\n",
      "Epoch 11/20\n",
      "332/332 [==============================] - 8s 23ms/step - loss: 0.4984 - accuracy: 0.7446 - val_loss: 0.6526 - val_accuracy: 0.6791\n",
      "Epoch 12/20\n",
      "332/332 [==============================] - 6s 18ms/step - loss: 0.4792 - accuracy: 0.7546 - val_loss: 0.6771 - val_accuracy: 0.6333\n",
      "Epoch 13/20\n",
      "332/332 [==============================] - 6s 17ms/step - loss: 0.4659 - accuracy: 0.7605 - val_loss: 0.6793 - val_accuracy: 0.6715\n",
      "Epoch 14/20\n",
      "332/332 [==============================] - 5s 16ms/step - loss: 0.4516 - accuracy: 0.7700 - val_loss: 0.7003 - val_accuracy: 0.6401\n",
      "Epoch 15/20\n",
      "332/332 [==============================] - 5s 16ms/step - loss: 0.4366 - accuracy: 0.7755 - val_loss: 0.7151 - val_accuracy: 0.6528\n",
      "Epoch 16/20\n",
      "332/332 [==============================] - 6s 17ms/step - loss: 0.4252 - accuracy: 0.7837 - val_loss: 0.7265 - val_accuracy: 0.6834\n",
      "Epoch 17/20\n",
      "332/332 [==============================] - 5s 16ms/step - loss: 0.4103 - accuracy: 0.7879 - val_loss: 0.7661 - val_accuracy: 0.6630\n",
      "Epoch 18/20\n",
      "332/332 [==============================] - 5s 16ms/step - loss: 0.3995 - accuracy: 0.7971 - val_loss: 0.7868 - val_accuracy: 0.6494\n",
      "Epoch 19/20\n",
      "332/332 [==============================] - 7s 21ms/step - loss: 0.3878 - accuracy: 0.8010 - val_loss: 0.8128 - val_accuracy: 0.6350\n",
      "Epoch 20/20\n",
      "332/332 [==============================] - 5s 16ms/step - loss: 0.3771 - accuracy: 0.8060 - val_loss: 0.8700 - val_accuracy: 0.6604\n",
      "369/369 [==============================] - 2s 5ms/step - loss: 0.3971 - accuracy: 0.8071\n",
      " 38/369 [==>...........................] - ETA: 0s"
     ]
    },
    {
     "name": "stderr",
     "output_type": "stream",
     "text": [
      "2023-05-04 11:54:13.401644: I tensorflow/core/grappler/optimizers/custom_graph_optimizer_registry.cc:113] Plugin optimizer for device_type GPU is enabled.\n"
     ]
    },
    {
     "name": "stdout",
     "output_type": "stream",
     "text": [
      "369/369 [==============================] - 1s 2ms/step\n",
      "NUM: 15\n",
      "Epoch 1/20\n"
     ]
    },
    {
     "name": "stderr",
     "output_type": "stream",
     "text": [
      "2023-05-04 11:54:14.674201: I tensorflow/core/grappler/optimizers/custom_graph_optimizer_registry.cc:113] Plugin optimizer for device_type GPU is enabled.\n"
     ]
    },
    {
     "name": "stdout",
     "output_type": "stream",
     "text": [
      "332/332 [==============================] - ETA: 0s - loss: 0.6924 - accuracy: 0.5148"
     ]
    },
    {
     "name": "stderr",
     "output_type": "stream",
     "text": [
      "2023-05-04 11:54:25.587395: I tensorflow/core/grappler/optimizers/custom_graph_optimizer_registry.cc:113] Plugin optimizer for device_type GPU is enabled.\n",
      "WARNING:absl:Found untraced functions such as _jit_compiled_convolution_op while saving (showing 1 of 1). These functions will not be directly callable after loading.\n"
     ]
    },
    {
     "name": "stdout",
     "output_type": "stream",
     "text": [
      "INFO:tensorflow:Assets written to: 13-22_15/checkpoint/assets\n"
     ]
    },
    {
     "name": "stderr",
     "output_type": "stream",
     "text": [
      "INFO:tensorflow:Assets written to: 13-22_15/checkpoint/assets\n"
     ]
    },
    {
     "name": "stdout",
     "output_type": "stream",
     "text": [
      "332/332 [==============================] - 13s 36ms/step - loss: 0.6924 - accuracy: 0.5148 - val_loss: 0.6981 - val_accuracy: 0.4728\n",
      "Epoch 2/20\n",
      "332/332 [==============================] - ETA: 0s - loss: 0.6896 - accuracy: 0.5288"
     ]
    },
    {
     "name": "stderr",
     "output_type": "stream",
     "text": [
      "WARNING:absl:Found untraced functions such as _jit_compiled_convolution_op while saving (showing 1 of 1). These functions will not be directly callable after loading.\n"
     ]
    },
    {
     "name": "stdout",
     "output_type": "stream",
     "text": [
      "INFO:tensorflow:Assets written to: 13-22_15/checkpoint/assets\n"
     ]
    },
    {
     "name": "stderr",
     "output_type": "stream",
     "text": [
      "INFO:tensorflow:Assets written to: 13-22_15/checkpoint/assets\n"
     ]
    },
    {
     "name": "stdout",
     "output_type": "stream",
     "text": [
      "332/332 [==============================] - 10s 29ms/step - loss: 0.6896 - accuracy: 0.5288 - val_loss: 0.6924 - val_accuracy: 0.5297\n",
      "Epoch 3/20\n",
      "332/332 [==============================] - ETA: 0s - loss: 0.6820 - accuracy: 0.5549"
     ]
    },
    {
     "name": "stderr",
     "output_type": "stream",
     "text": [
      "WARNING:absl:Found untraced functions such as _jit_compiled_convolution_op while saving (showing 1 of 1). These functions will not be directly callable after loading.\n"
     ]
    },
    {
     "name": "stdout",
     "output_type": "stream",
     "text": [
      "INFO:tensorflow:Assets written to: 13-22_15/checkpoint/assets\n"
     ]
    },
    {
     "name": "stderr",
     "output_type": "stream",
     "text": [
      "INFO:tensorflow:Assets written to: 13-22_15/checkpoint/assets\n"
     ]
    },
    {
     "name": "stdout",
     "output_type": "stream",
     "text": [
      "332/332 [==============================] - 11s 33ms/step - loss: 0.6820 - accuracy: 0.5549 - val_loss: 0.6860 - val_accuracy: 0.5374\n",
      "Epoch 4/20\n",
      "331/332 [============================>.] - ETA: 0s - loss: 0.6691 - accuracy: 0.5884"
     ]
    },
    {
     "name": "stderr",
     "output_type": "stream",
     "text": [
      "WARNING:absl:Found untraced functions such as _jit_compiled_convolution_op while saving (showing 1 of 1). These functions will not be directly callable after loading.\n"
     ]
    },
    {
     "name": "stdout",
     "output_type": "stream",
     "text": [
      "INFO:tensorflow:Assets written to: 13-22_15/checkpoint/assets\n"
     ]
    },
    {
     "name": "stderr",
     "output_type": "stream",
     "text": [
      "INFO:tensorflow:Assets written to: 13-22_15/checkpoint/assets\n"
     ]
    },
    {
     "name": "stdout",
     "output_type": "stream",
     "text": [
      "332/332 [==============================] - 9s 26ms/step - loss: 0.6692 - accuracy: 0.5882 - val_loss: 0.6914 - val_accuracy: 0.5637\n",
      "Epoch 5/20\n",
      "332/332 [==============================] - 8s 24ms/step - loss: 0.6524 - accuracy: 0.6168 - val_loss: 0.6845 - val_accuracy: 0.5433\n",
      "Epoch 6/20\n",
      "332/332 [==============================] - 11s 32ms/step - loss: 0.6362 - accuracy: 0.6328 - val_loss: 0.7070 - val_accuracy: 0.5424\n",
      "Epoch 7/20\n",
      "332/332 [==============================] - ETA: 0s - loss: 0.6202 - accuracy: 0.6479"
     ]
    },
    {
     "name": "stderr",
     "output_type": "stream",
     "text": [
      "WARNING:absl:Found untraced functions such as _jit_compiled_convolution_op while saving (showing 1 of 1). These functions will not be directly callable after loading.\n"
     ]
    },
    {
     "name": "stdout",
     "output_type": "stream",
     "text": [
      "INFO:tensorflow:Assets written to: 13-22_15/checkpoint/assets\n"
     ]
    },
    {
     "name": "stderr",
     "output_type": "stream",
     "text": [
      "INFO:tensorflow:Assets written to: 13-22_15/checkpoint/assets\n"
     ]
    },
    {
     "name": "stdout",
     "output_type": "stream",
     "text": [
      "332/332 [==============================] - 14s 42ms/step - loss: 0.6202 - accuracy: 0.6479 - val_loss: 0.7103 - val_accuracy: 0.5688\n",
      "Epoch 8/20\n",
      "331/332 [============================>.] - ETA: 0s - loss: 0.6041 - accuracy: 0.6636"
     ]
    },
    {
     "name": "stderr",
     "output_type": "stream",
     "text": [
      "WARNING:absl:Found untraced functions such as _jit_compiled_convolution_op while saving (showing 1 of 1). These functions will not be directly callable after loading.\n"
     ]
    },
    {
     "name": "stdout",
     "output_type": "stream",
     "text": [
      "INFO:tensorflow:Assets written to: 13-22_15/checkpoint/assets\n"
     ]
    },
    {
     "name": "stderr",
     "output_type": "stream",
     "text": [
      "INFO:tensorflow:Assets written to: 13-22_15/checkpoint/assets\n"
     ]
    },
    {
     "name": "stdout",
     "output_type": "stream",
     "text": [
      "332/332 [==============================] - 12s 37ms/step - loss: 0.6041 - accuracy: 0.6636 - val_loss: 0.7204 - val_accuracy: 0.5806\n",
      "Epoch 9/20\n",
      "332/332 [==============================] - 13s 38ms/step - loss: 0.5891 - accuracy: 0.6721 - val_loss: 0.7278 - val_accuracy: 0.5764\n",
      "Epoch 10/20\n",
      "332/332 [==============================] - 12s 38ms/step - loss: 0.5694 - accuracy: 0.6894 - val_loss: 0.7355 - val_accuracy: 0.5747\n",
      "Epoch 11/20\n",
      "332/332 [==============================] - ETA: 0s - loss: 0.5536 - accuracy: 0.7030"
     ]
    },
    {
     "name": "stderr",
     "output_type": "stream",
     "text": [
      "WARNING:absl:Found untraced functions such as _jit_compiled_convolution_op while saving (showing 1 of 1). These functions will not be directly callable after loading.\n"
     ]
    },
    {
     "name": "stdout",
     "output_type": "stream",
     "text": [
      "INFO:tensorflow:Assets written to: 13-22_15/checkpoint/assets\n"
     ]
    },
    {
     "name": "stderr",
     "output_type": "stream",
     "text": [
      "INFO:tensorflow:Assets written to: 13-22_15/checkpoint/assets\n"
     ]
    },
    {
     "name": "stdout",
     "output_type": "stream",
     "text": [
      "332/332 [==============================] - 13s 40ms/step - loss: 0.5536 - accuracy: 0.7030 - val_loss: 0.7436 - val_accuracy: 0.5900\n",
      "Epoch 12/20\n",
      "332/332 [==============================] - 12s 37ms/step - loss: 0.5403 - accuracy: 0.7105 - val_loss: 0.8135 - val_accuracy: 0.5340\n",
      "Epoch 13/20\n",
      "332/332 [==============================] - 13s 38ms/step - loss: 0.5274 - accuracy: 0.7196 - val_loss: 0.7791 - val_accuracy: 0.5688\n",
      "Epoch 14/20\n",
      "332/332 [==============================] - 12s 37ms/step - loss: 0.5078 - accuracy: 0.7283 - val_loss: 0.7908 - val_accuracy: 0.5543\n",
      "Epoch 15/20\n",
      "332/332 [==============================] - 12s 37ms/step - loss: 0.4945 - accuracy: 0.7347 - val_loss: 0.8134 - val_accuracy: 0.5840\n",
      "Epoch 16/20\n",
      "332/332 [==============================] - 11s 33ms/step - loss: 0.4845 - accuracy: 0.7396 - val_loss: 0.8447 - val_accuracy: 0.5671\n",
      "Epoch 17/20\n",
      "332/332 [==============================] - 6s 19ms/step - loss: 0.4658 - accuracy: 0.7513 - val_loss: 0.8756 - val_accuracy: 0.5679\n",
      "Epoch 18/20\n",
      "332/332 [==============================] - 12s 35ms/step - loss: 0.4585 - accuracy: 0.7555 - val_loss: 0.8794 - val_accuracy: 0.5611\n",
      "Epoch 19/20\n",
      "332/332 [==============================] - 12s 36ms/step - loss: 0.4465 - accuracy: 0.7671 - val_loss: 0.9132 - val_accuracy: 0.5620\n",
      "Epoch 20/20\n",
      "332/332 [==============================] - 12s 35ms/step - loss: 0.4368 - accuracy: 0.7671 - val_loss: 0.9421 - val_accuracy: 0.5552\n",
      "369/369 [==============================] - 2s 5ms/step - loss: 0.4573 - accuracy: 0.7717\n",
      " 40/369 [==>...........................] - ETA: 0s"
     ]
    },
    {
     "name": "stderr",
     "output_type": "stream",
     "text": [
      "2023-05-04 11:58:04.315560: I tensorflow/core/grappler/optimizers/custom_graph_optimizer_registry.cc:113] Plugin optimizer for device_type GPU is enabled.\n"
     ]
    },
    {
     "name": "stdout",
     "output_type": "stream",
     "text": [
      "369/369 [==============================] - 1s 2ms/step\n",
      "NUM: 16\n",
      "Epoch 1/20\n"
     ]
    },
    {
     "name": "stderr",
     "output_type": "stream",
     "text": [
      "2023-05-04 11:58:05.971979: I tensorflow/core/grappler/optimizers/custom_graph_optimizer_registry.cc:113] Plugin optimizer for device_type GPU is enabled.\n"
     ]
    },
    {
     "name": "stdout",
     "output_type": "stream",
     "text": [
      "332/332 [==============================] - ETA: 0s - loss: 0.5835 - accuracy: 0.7360"
     ]
    },
    {
     "name": "stderr",
     "output_type": "stream",
     "text": [
      "2023-05-04 11:58:21.001984: I tensorflow/core/grappler/optimizers/custom_graph_optimizer_registry.cc:113] Plugin optimizer for device_type GPU is enabled.\n",
      "WARNING:absl:Found untraced functions such as _jit_compiled_convolution_op while saving (showing 1 of 1). These functions will not be directly callable after loading.\n"
     ]
    },
    {
     "name": "stdout",
     "output_type": "stream",
     "text": [
      "INFO:tensorflow:Assets written to: 13-22_16/checkpoint/assets\n"
     ]
    },
    {
     "name": "stderr",
     "output_type": "stream",
     "text": [
      "INFO:tensorflow:Assets written to: 13-22_16/checkpoint/assets\n"
     ]
    },
    {
     "name": "stdout",
     "output_type": "stream",
     "text": [
      "332/332 [==============================] - 17s 47ms/step - loss: 0.5835 - accuracy: 0.7360 - val_loss: 0.5587 - val_accuracy: 0.7547\n",
      "Epoch 2/20\n",
      "332/332 [==============================] - 11s 34ms/step - loss: 0.5800 - accuracy: 0.7360 - val_loss: 0.5585 - val_accuracy: 0.7547\n",
      "Epoch 3/20\n",
      "332/332 [==============================] - 10s 29ms/step - loss: 0.5736 - accuracy: 0.7360 - val_loss: 0.5639 - val_accuracy: 0.7547\n",
      "Epoch 4/20\n",
      "332/332 [==============================] - 14s 42ms/step - loss: 0.5684 - accuracy: 0.7359 - val_loss: 0.5677 - val_accuracy: 0.7547\n",
      "Epoch 5/20\n",
      "332/332 [==============================] - 10s 30ms/step - loss: 0.5604 - accuracy: 0.7363 - val_loss: 0.5737 - val_accuracy: 0.7547\n",
      "Epoch 6/20\n",
      "332/332 [==============================] - 11s 34ms/step - loss: 0.5516 - accuracy: 0.7379 - val_loss: 0.5771 - val_accuracy: 0.7547\n",
      "Epoch 7/20\n",
      "332/332 [==============================] - 13s 40ms/step - loss: 0.5445 - accuracy: 0.7380 - val_loss: 0.5813 - val_accuracy: 0.7530\n",
      "Epoch 8/20\n",
      "332/332 [==============================] - 11s 33ms/step - loss: 0.5315 - accuracy: 0.7435 - val_loss: 0.5924 - val_accuracy: 0.7479\n",
      "Epoch 9/20\n",
      "332/332 [==============================] - 8s 25ms/step - loss: 0.5179 - accuracy: 0.7514 - val_loss: 0.5996 - val_accuracy: 0.7453\n",
      "Epoch 10/20\n",
      "332/332 [==============================] - 9s 26ms/step - loss: 0.5019 - accuracy: 0.7566 - val_loss: 0.6313 - val_accuracy: 0.6935\n",
      "Epoch 11/20\n",
      "332/332 [==============================] - 8s 24ms/step - loss: 0.4853 - accuracy: 0.7648 - val_loss: 0.6300 - val_accuracy: 0.7241\n",
      "Epoch 12/20\n",
      "332/332 [==============================] - 9s 29ms/step - loss: 0.4680 - accuracy: 0.7800 - val_loss: 0.6631 - val_accuracy: 0.6876\n",
      "Epoch 13/20\n",
      "332/332 [==============================] - 10s 31ms/step - loss: 0.4493 - accuracy: 0.7907 - val_loss: 0.6782 - val_accuracy: 0.7224\n",
      "Epoch 14/20\n",
      "332/332 [==============================] - 9s 26ms/step - loss: 0.4325 - accuracy: 0.7978 - val_loss: 0.6986 - val_accuracy: 0.7122\n",
      "Epoch 15/20\n",
      "332/332 [==============================] - 9s 26ms/step - loss: 0.4182 - accuracy: 0.8037 - val_loss: 0.7289 - val_accuracy: 0.6952\n",
      "Epoch 16/20\n",
      "332/332 [==============================] - 7s 21ms/step - loss: 0.4051 - accuracy: 0.8138 - val_loss: 0.7872 - val_accuracy: 0.6553\n",
      "Epoch 17/20\n",
      "332/332 [==============================] - 7s 21ms/step - loss: 0.3967 - accuracy: 0.8159 - val_loss: 0.7876 - val_accuracy: 0.6893\n",
      "Epoch 18/20\n",
      "332/332 [==============================] - 7s 20ms/step - loss: 0.3799 - accuracy: 0.8221 - val_loss: 0.8054 - val_accuracy: 0.6986\n",
      "Epoch 19/20\n",
      "332/332 [==============================] - 7s 21ms/step - loss: 0.3671 - accuracy: 0.8275 - val_loss: 0.8506 - val_accuracy: 0.6732\n",
      "Epoch 20/20\n",
      "332/332 [==============================] - 7s 21ms/step - loss: 0.3609 - accuracy: 0.8322 - val_loss: 0.8814 - val_accuracy: 0.6647\n",
      "369/369 [==============================] - 2s 6ms/step - loss: 0.3812 - accuracy: 0.8322\n",
      " 39/369 [==>...........................] - ETA: 0s"
     ]
    },
    {
     "name": "stderr",
     "output_type": "stream",
     "text": [
      "2023-05-04 12:01:21.471341: I tensorflow/core/grappler/optimizers/custom_graph_optimizer_registry.cc:113] Plugin optimizer for device_type GPU is enabled.\n"
     ]
    },
    {
     "name": "stdout",
     "output_type": "stream",
     "text": [
      "369/369 [==============================] - 1s 3ms/step\n",
      "NUM: 17\n",
      "Epoch 1/20\n"
     ]
    },
    {
     "name": "stderr",
     "output_type": "stream",
     "text": [
      "2023-05-04 12:01:22.967174: I tensorflow/core/grappler/optimizers/custom_graph_optimizer_registry.cc:113] Plugin optimizer for device_type GPU is enabled.\n"
     ]
    },
    {
     "name": "stdout",
     "output_type": "stream",
     "text": [
      "332/332 [==============================] - ETA: 0s - loss: 0.6274 - accuracy: 0.6826"
     ]
    },
    {
     "name": "stderr",
     "output_type": "stream",
     "text": [
      "2023-05-04 12:01:40.293810: I tensorflow/core/grappler/optimizers/custom_graph_optimizer_registry.cc:113] Plugin optimizer for device_type GPU is enabled.\n",
      "WARNING:absl:Found untraced functions such as _jit_compiled_convolution_op while saving (showing 1 of 1). These functions will not be directly callable after loading.\n"
     ]
    },
    {
     "name": "stdout",
     "output_type": "stream",
     "text": [
      "INFO:tensorflow:Assets written to: 13-22_17/checkpoint/assets\n"
     ]
    },
    {
     "name": "stderr",
     "output_type": "stream",
     "text": [
      "INFO:tensorflow:Assets written to: 13-22_17/checkpoint/assets\n"
     ]
    },
    {
     "name": "stdout",
     "output_type": "stream",
     "text": [
      "332/332 [==============================] - 19s 55ms/step - loss: 0.6274 - accuracy: 0.6826 - val_loss: 0.6022 - val_accuracy: 0.7097\n",
      "Epoch 2/20\n",
      "332/332 [==============================] - 16s 48ms/step - loss: 0.6242 - accuracy: 0.6826 - val_loss: 0.5968 - val_accuracy: 0.7097\n",
      "Epoch 3/20\n",
      "332/332 [==============================] - 15s 44ms/step - loss: 0.6174 - accuracy: 0.6827 - val_loss: 0.6002 - val_accuracy: 0.7097\n",
      "Epoch 4/20\n",
      "332/332 [==============================] - 13s 40ms/step - loss: 0.6087 - accuracy: 0.6818 - val_loss: 0.6011 - val_accuracy: 0.7097\n",
      "Epoch 5/20\n",
      "332/332 [==============================] - 13s 39ms/step - loss: 0.6019 - accuracy: 0.6839 - val_loss: 0.6074 - val_accuracy: 0.7012\n",
      "Epoch 6/20\n",
      "332/332 [==============================] - 13s 39ms/step - loss: 0.5900 - accuracy: 0.6902 - val_loss: 0.6143 - val_accuracy: 0.7029\n",
      "Epoch 7/20\n",
      "332/332 [==============================] - 10s 31ms/step - loss: 0.5765 - accuracy: 0.7001 - val_loss: 0.6272 - val_accuracy: 0.6851\n",
      "Epoch 8/20\n",
      "332/332 [==============================] - 9s 26ms/step - loss: 0.5634 - accuracy: 0.7133 - val_loss: 0.6452 - val_accuracy: 0.6783\n",
      "Epoch 9/20\n",
      "332/332 [==============================] - 9s 27ms/step - loss: 0.5464 - accuracy: 0.7164 - val_loss: 0.6588 - val_accuracy: 0.6885\n",
      "Epoch 10/20\n",
      "332/332 [==============================] - 7s 20ms/step - loss: 0.5305 - accuracy: 0.7273 - val_loss: 0.6840 - val_accuracy: 0.7029\n",
      "Epoch 11/20\n",
      "332/332 [==============================] - 7s 22ms/step - loss: 0.5154 - accuracy: 0.7387 - val_loss: 0.6970 - val_accuracy: 0.6545\n",
      "Epoch 12/20\n",
      "332/332 [==============================] - 7s 20ms/step - loss: 0.4999 - accuracy: 0.7495 - val_loss: 0.7008 - val_accuracy: 0.6469\n",
      "Epoch 13/20\n",
      "332/332 [==============================] - 6s 19ms/step - loss: 0.4865 - accuracy: 0.7536 - val_loss: 0.7331 - val_accuracy: 0.6545\n",
      "Epoch 14/20\n",
      "332/332 [==============================] - 9s 26ms/step - loss: 0.4733 - accuracy: 0.7607 - val_loss: 0.7577 - val_accuracy: 0.6231\n",
      "Epoch 15/20\n",
      "332/332 [==============================] - 8s 24ms/step - loss: 0.4619 - accuracy: 0.7668 - val_loss: 0.7733 - val_accuracy: 0.6435\n",
      "Epoch 16/20\n",
      "332/332 [==============================] - 6s 17ms/step - loss: 0.4490 - accuracy: 0.7778 - val_loss: 0.8198 - val_accuracy: 0.6188\n",
      "Epoch 17/20\n",
      "332/332 [==============================] - 6s 18ms/step - loss: 0.4344 - accuracy: 0.7816 - val_loss: 0.8397 - val_accuracy: 0.6486\n",
      "Epoch 18/20\n",
      "332/332 [==============================] - 6s 19ms/step - loss: 0.4246 - accuracy: 0.7887 - val_loss: 0.8377 - val_accuracy: 0.6443\n",
      "Epoch 19/20\n",
      "332/332 [==============================] - 6s 19ms/step - loss: 0.4107 - accuracy: 0.7941 - val_loss: 0.9057 - val_accuracy: 0.6248\n",
      "Epoch 20/20\n",
      "332/332 [==============================] - 6s 18ms/step - loss: 0.4025 - accuracy: 0.8017 - val_loss: 0.8783 - val_accuracy: 0.6384\n",
      "369/369 [==============================] - 2s 5ms/step - loss: 0.4217 - accuracy: 0.8018\n",
      " 47/369 [==>...........................] - ETA: 0s"
     ]
    },
    {
     "name": "stderr",
     "output_type": "stream",
     "text": [
      "2023-05-04 12:04:35.026373: I tensorflow/core/grappler/optimizers/custom_graph_optimizer_registry.cc:113] Plugin optimizer for device_type GPU is enabled.\n"
     ]
    },
    {
     "name": "stdout",
     "output_type": "stream",
     "text": [
      "369/369 [==============================] - 1s 2ms/step\n",
      "NUM: 18\n",
      "Epoch 1/20\n"
     ]
    },
    {
     "name": "stderr",
     "output_type": "stream",
     "text": [
      "2023-05-04 12:04:36.215463: I tensorflow/core/grappler/optimizers/custom_graph_optimizer_registry.cc:113] Plugin optimizer for device_type GPU is enabled.\n"
     ]
    },
    {
     "name": "stdout",
     "output_type": "stream",
     "text": [
      "332/332 [==============================] - ETA: 0s - loss: 0.2174 - accuracy: 0.9509"
     ]
    },
    {
     "name": "stderr",
     "output_type": "stream",
     "text": [
      "2023-05-04 12:04:57.701800: I tensorflow/core/grappler/optimizers/custom_graph_optimizer_registry.cc:113] Plugin optimizer for device_type GPU is enabled.\n",
      "WARNING:absl:Found untraced functions such as _jit_compiled_convolution_op while saving (showing 1 of 1). These functions will not be directly callable after loading.\n"
     ]
    },
    {
     "name": "stdout",
     "output_type": "stream",
     "text": [
      "INFO:tensorflow:Assets written to: 13-22_18/checkpoint/assets\n"
     ]
    },
    {
     "name": "stderr",
     "output_type": "stream",
     "text": [
      "INFO:tensorflow:Assets written to: 13-22_18/checkpoint/assets\n"
     ]
    },
    {
     "name": "stdout",
     "output_type": "stream",
     "text": [
      "332/332 [==============================] - 23s 68ms/step - loss: 0.2174 - accuracy: 0.9509 - val_loss: 0.2090 - val_accuracy: 0.9465\n",
      "Epoch 2/20\n",
      "332/332 [==============================] - 20s 61ms/step - loss: 0.2004 - accuracy: 0.9510 - val_loss: 0.2083 - val_accuracy: 0.9465\n",
      "Epoch 3/20\n",
      "332/332 [==============================] - 21s 63ms/step - loss: 0.1973 - accuracy: 0.9510 - val_loss: 0.2077 - val_accuracy: 0.9465\n",
      "Epoch 4/20\n",
      "332/332 [==============================] - 21s 63ms/step - loss: 0.1959 - accuracy: 0.9510 - val_loss: 0.2088 - val_accuracy: 0.9465\n",
      "Epoch 5/20\n",
      "332/332 [==============================] - 20s 61ms/step - loss: 0.1869 - accuracy: 0.9510 - val_loss: 0.2121 - val_accuracy: 0.9465\n",
      "Epoch 6/20\n",
      "332/332 [==============================] - 16s 47ms/step - loss: 0.1824 - accuracy: 0.9510 - val_loss: 0.2133 - val_accuracy: 0.9465\n",
      "Epoch 7/20\n",
      "332/332 [==============================] - 11s 32ms/step - loss: 0.1790 - accuracy: 0.9510 - val_loss: 0.2167 - val_accuracy: 0.9465\n",
      "Epoch 8/20\n",
      "332/332 [==============================] - 11s 33ms/step - loss: 0.1732 - accuracy: 0.9510 - val_loss: 0.2351 - val_accuracy: 0.9465\n",
      "Epoch 9/20\n",
      "332/332 [==============================] - 10s 31ms/step - loss: 0.1684 - accuracy: 0.9510 - val_loss: 0.2287 - val_accuracy: 0.9465\n",
      "Epoch 10/20\n",
      "332/332 [==============================] - 9s 26ms/step - loss: 0.1638 - accuracy: 0.9510 - val_loss: 0.2413 - val_accuracy: 0.9465\n",
      "Epoch 11/20\n",
      "332/332 [==============================] - 7s 22ms/step - loss: 0.1591 - accuracy: 0.9510 - val_loss: 0.2348 - val_accuracy: 0.9465\n",
      "Epoch 12/20\n",
      "332/332 [==============================] - 7s 22ms/step - loss: 0.1553 - accuracy: 0.9510 - val_loss: 0.2433 - val_accuracy: 0.9465\n",
      "Epoch 13/20\n",
      "332/332 [==============================] - 7s 20ms/step - loss: 0.1499 - accuracy: 0.9513 - val_loss: 0.2548 - val_accuracy: 0.9465\n",
      "Epoch 14/20\n",
      "332/332 [==============================] - 7s 20ms/step - loss: 0.1453 - accuracy: 0.9521 - val_loss: 0.2575 - val_accuracy: 0.9440\n",
      "Epoch 15/20\n",
      "332/332 [==============================] - 6s 19ms/step - loss: 0.1427 - accuracy: 0.9534 - val_loss: 0.2692 - val_accuracy: 0.9457\n",
      "Epoch 16/20\n",
      "332/332 [==============================] - 6s 19ms/step - loss: 0.1344 - accuracy: 0.9535 - val_loss: 0.2778 - val_accuracy: 0.9414\n",
      "Epoch 17/20\n",
      "332/332 [==============================] - 6s 19ms/step - loss: 0.1321 - accuracy: 0.9563 - val_loss: 0.2864 - val_accuracy: 0.9414\n",
      "Epoch 18/20\n",
      "332/332 [==============================] - 6s 18ms/step - loss: 0.1272 - accuracy: 0.9561 - val_loss: 0.3161 - val_accuracy: 0.9423\n",
      "Epoch 19/20\n",
      "332/332 [==============================] - 6s 18ms/step - loss: 0.1214 - accuracy: 0.9576 - val_loss: 0.2988 - val_accuracy: 0.9406\n",
      "Epoch 20/20\n",
      "332/332 [==============================] - 6s 18ms/step - loss: 0.1187 - accuracy: 0.9580 - val_loss: 0.3168 - val_accuracy: 0.9270\n",
      "369/369 [==============================] - 2s 5ms/step - loss: 0.1270 - accuracy: 0.9622\n",
      " 49/369 [==>...........................] - ETA: 0s"
     ]
    },
    {
     "name": "stderr",
     "output_type": "stream",
     "text": [
      "2023-05-04 12:08:24.851071: I tensorflow/core/grappler/optimizers/custom_graph_optimizer_registry.cc:113] Plugin optimizer for device_type GPU is enabled.\n"
     ]
    },
    {
     "name": "stdout",
     "output_type": "stream",
     "text": [
      "369/369 [==============================] - 1s 2ms/step\n"
     ]
    }
   ],
   "source": [
    "# keep_model = {}\n",
    "ques_grp = {GP1:(1,4),GP2:(4,14),GP3:(14,19)}\n",
    "# save_history = []\n",
    "\n",
    "# tb_callback = tf.keras.callbacks.TensorBoard('./logs', update_freq=1)\n",
    "for level in grp:\n",
    "    a, b = ques_grp[level]\n",
    "    for Q in range(a,b):\n",
    "        model = train_model(int(GROUP_DATA[level][\"data\"].max())+1 #最大的數字要再+1曾能送到embedding因為embedding會試左閉又開，不包含傳入的.max()值\n",
    "                        )\n",
    "        model.compile(loss=\"binary_crossentropy\", optimizer = \"adam\",metrics = \"accuracy\")\n",
    "        grp_target = GROUP_DATA[level][\"target\"]\n",
    "        y_label = grp_target[grp_target.q == Q].correct\n",
    "        \n",
    "        \n",
    "        model_checkpoint_callback = ModelCheckpoint(\n",
    "                                    filepath=f'{level}_{Q}/checkpoint',\n",
    "                                    save_weights_only= False,\n",
    "                                    monitor='val_accuracy',\n",
    "                                    mode='max',\n",
    "                                    save_best_only=True)\n",
    "        \n",
    "        print(f\"NUM: {Q}\")\n",
    "        History = model.fit(GROUP_DATA[level][\"data\"],\n",
    "                            y_label,validation_split=0.1, \n",
    "                            epochs=20, \n",
    "                            batch_size= 32,\n",
    "                            verbose = 1,\n",
    "                            callbacks = [model_checkpoint_callback])\n",
    "#         save_history.append(History)\n",
    "        loss, acc = model.evaluate(GROUP_DATA[level][\"data\"],\n",
    "                                   y_label)\n",
    "        y_pred = model.predict(GROUP_DATA[level][\"data\"])\n",
    "#         keep_model[f\"{level}_{Q}\"] = model\n",
    "        pred_df[Q] = y_pred"
   ]
  },
  {
   "cell_type": "code",
   "execution_count": 17,
   "id": "8779f8ba",
   "metadata": {
    "execution": {
     "iopub.execute_input": "2023-04-15T16:05:24.607938Z",
     "iopub.status.busy": "2023-04-15T16:05:24.607547Z",
     "iopub.status.idle": "2023-04-15T16:05:24.864135Z",
     "shell.execute_reply": "2023-04-15T16:05:24.863099Z"
    },
    "id": "8779f8ba",
    "papermill": {
     "duration": 0.419155,
     "end_time": "2023-04-15T16:05:24.866977",
     "exception": false,
     "start_time": "2023-04-15T16:05:24.447822",
     "status": "completed"
    },
    "tags": []
   },
   "outputs": [],
   "source": [
    "_ = gc.collect()"
   ]
  },
  {
   "cell_type": "code",
   "execution_count": 20,
   "id": "4fc25358",
   "metadata": {
    "execution": {
     "iopub.execute_input": "2023-04-15T16:05:25.516470Z",
     "iopub.status.busy": "2023-04-15T16:05:25.515462Z",
     "iopub.status.idle": "2023-04-15T16:05:25.708673Z",
     "shell.execute_reply": "2023-04-15T16:05:25.707669Z"
    },
    "id": "4fc25358",
    "papermill": {
     "duration": 0.355399,
     "end_time": "2023-04-15T16:05:25.711194",
     "exception": false,
     "start_time": "2023-04-15T16:05:25.355795",
     "status": "completed"
    },
    "tags": []
   },
   "outputs": [],
   "source": [
    "_ = gc.collect()"
   ]
  },
  {
   "cell_type": "code",
   "execution_count": 21,
   "id": "29f5259e",
   "metadata": {
    "execution": {
     "iopub.execute_input": "2023-04-15T16:05:26.029524Z",
     "iopub.status.busy": "2023-04-15T16:05:26.029159Z",
     "iopub.status.idle": "2023-04-15T16:05:26.048918Z",
     "shell.execute_reply": "2023-04-15T16:05:26.047834Z"
    },
    "id": "29f5259e",
    "outputId": "726e60f6-0dec-4957-a4e0-ad707b21f796",
    "papermill": {
     "duration": 0.180912,
     "end_time": "2023-04-15T16:05:26.051304",
     "exception": false,
     "start_time": "2023-04-15T16:05:25.870392",
     "status": "completed"
    },
    "tags": []
   },
   "outputs": [
    {
     "data": {
      "text/html": [
       "<div>\n",
       "<style scoped>\n",
       "    .dataframe tbody tr th:only-of-type {\n",
       "        vertical-align: middle;\n",
       "    }\n",
       "\n",
       "    .dataframe tbody tr th {\n",
       "        vertical-align: top;\n",
       "    }\n",
       "\n",
       "    .dataframe thead th {\n",
       "        text-align: right;\n",
       "    }\n",
       "</style>\n",
       "<table border=\"1\" class=\"dataframe\">\n",
       "  <thead>\n",
       "    <tr style=\"text-align: right;\">\n",
       "      <th></th>\n",
       "      <th>1</th>\n",
       "      <th>2</th>\n",
       "      <th>3</th>\n",
       "      <th>4</th>\n",
       "      <th>5</th>\n",
       "      <th>6</th>\n",
       "      <th>7</th>\n",
       "      <th>8</th>\n",
       "      <th>9</th>\n",
       "      <th>10</th>\n",
       "      <th>11</th>\n",
       "      <th>12</th>\n",
       "      <th>13</th>\n",
       "      <th>14</th>\n",
       "      <th>15</th>\n",
       "      <th>16</th>\n",
       "      <th>17</th>\n",
       "      <th>18</th>\n",
       "    </tr>\n",
       "  </thead>\n",
       "  <tbody>\n",
       "    <tr>\n",
       "      <th>20090312431273200</th>\n",
       "      <td>0.605299</td>\n",
       "      <td>0.999074</td>\n",
       "      <td>0.963560</td>\n",
       "      <td>0.817970</td>\n",
       "      <td>0.667744</td>\n",
       "      <td>0.869899</td>\n",
       "      <td>0.846488</td>\n",
       "      <td>0.757572</td>\n",
       "      <td>0.889349</td>\n",
       "      <td>0.769303</td>\n",
       "      <td>0.676102</td>\n",
       "      <td>0.956641</td>\n",
       "      <td>0.375380</td>\n",
       "      <td>0.999959</td>\n",
       "      <td>0.190973</td>\n",
       "      <td>0.309583</td>\n",
       "      <td>0.923746</td>\n",
       "      <td>0.986232</td>\n",
       "    </tr>\n",
       "    <tr>\n",
       "      <th>20090312433251036</th>\n",
       "      <td>0.972780</td>\n",
       "      <td>0.999494</td>\n",
       "      <td>0.993493</td>\n",
       "      <td>0.966757</td>\n",
       "      <td>0.512803</td>\n",
       "      <td>0.466853</td>\n",
       "      <td>0.756647</td>\n",
       "      <td>0.588412</td>\n",
       "      <td>0.712865</td>\n",
       "      <td>0.504090</td>\n",
       "      <td>0.570969</td>\n",
       "      <td>0.888962</td>\n",
       "      <td>0.282094</td>\n",
       "      <td>0.995687</td>\n",
       "      <td>0.020531</td>\n",
       "      <td>0.995658</td>\n",
       "      <td>0.418836</td>\n",
       "      <td>0.839898</td>\n",
       "    </tr>\n",
       "    <tr>\n",
       "      <th>20090314121766812</th>\n",
       "      <td>0.924649</td>\n",
       "      <td>1.000000</td>\n",
       "      <td>0.986465</td>\n",
       "      <td>0.593129</td>\n",
       "      <td>0.578493</td>\n",
       "      <td>0.709131</td>\n",
       "      <td>0.970137</td>\n",
       "      <td>0.578163</td>\n",
       "      <td>0.631985</td>\n",
       "      <td>0.493865</td>\n",
       "      <td>0.710938</td>\n",
       "      <td>0.855249</td>\n",
       "      <td>0.050867</td>\n",
       "      <td>0.998533</td>\n",
       "      <td>0.963890</td>\n",
       "      <td>0.998365</td>\n",
       "      <td>0.246588</td>\n",
       "      <td>0.999999</td>\n",
       "    </tr>\n",
       "    <tr>\n",
       "      <th>20090314363702160</th>\n",
       "      <td>0.577797</td>\n",
       "      <td>0.995780</td>\n",
       "      <td>0.993602</td>\n",
       "      <td>0.863510</td>\n",
       "      <td>0.818222</td>\n",
       "      <td>0.794018</td>\n",
       "      <td>0.801276</td>\n",
       "      <td>0.582018</td>\n",
       "      <td>0.802103</td>\n",
       "      <td>0.662421</td>\n",
       "      <td>0.692607</td>\n",
       "      <td>0.967748</td>\n",
       "      <td>0.439561</td>\n",
       "      <td>0.543686</td>\n",
       "      <td>0.440154</td>\n",
       "      <td>0.696626</td>\n",
       "      <td>0.823538</td>\n",
       "      <td>0.973141</td>\n",
       "    </tr>\n",
       "    <tr>\n",
       "      <th>20090314441803444</th>\n",
       "      <td>0.930522</td>\n",
       "      <td>0.998966</td>\n",
       "      <td>0.988500</td>\n",
       "      <td>0.964098</td>\n",
       "      <td>0.879303</td>\n",
       "      <td>0.964817</td>\n",
       "      <td>0.853412</td>\n",
       "      <td>0.955853</td>\n",
       "      <td>0.926459</td>\n",
       "      <td>0.980949</td>\n",
       "      <td>0.638696</td>\n",
       "      <td>0.968716</td>\n",
       "      <td>0.338078</td>\n",
       "      <td>0.979277</td>\n",
       "      <td>0.911700</td>\n",
       "      <td>0.885336</td>\n",
       "      <td>0.995648</td>\n",
       "      <td>0.968910</td>\n",
       "    </tr>\n",
       "  </tbody>\n",
       "</table>\n",
       "</div>"
      ],
      "text/plain": [
       "                         1         2         3         4         5         6   \\\n",
       "20090312431273200  0.605299  0.999074  0.963560  0.817970  0.667744  0.869899   \n",
       "20090312433251036  0.972780  0.999494  0.993493  0.966757  0.512803  0.466853   \n",
       "20090314121766812  0.924649  1.000000  0.986465  0.593129  0.578493  0.709131   \n",
       "20090314363702160  0.577797  0.995780  0.993602  0.863510  0.818222  0.794018   \n",
       "20090314441803444  0.930522  0.998966  0.988500  0.964098  0.879303  0.964817   \n",
       "\n",
       "                         7         8         9         10        11        12  \\\n",
       "20090312431273200  0.846488  0.757572  0.889349  0.769303  0.676102  0.956641   \n",
       "20090312433251036  0.756647  0.588412  0.712865  0.504090  0.570969  0.888962   \n",
       "20090314121766812  0.970137  0.578163  0.631985  0.493865  0.710938  0.855249   \n",
       "20090314363702160  0.801276  0.582018  0.802103  0.662421  0.692607  0.967748   \n",
       "20090314441803444  0.853412  0.955853  0.926459  0.980949  0.638696  0.968716   \n",
       "\n",
       "                         13        14        15        16        17        18  \n",
       "20090312431273200  0.375380  0.999959  0.190973  0.309583  0.923746  0.986232  \n",
       "20090312433251036  0.282094  0.995687  0.020531  0.995658  0.418836  0.839898  \n",
       "20090314121766812  0.050867  0.998533  0.963890  0.998365  0.246588  0.999999  \n",
       "20090314363702160  0.439561  0.543686  0.440154  0.696626  0.823538  0.973141  \n",
       "20090314441803444  0.338078  0.979277  0.911700  0.885336  0.995648  0.968910  "
      ]
     },
     "execution_count": 21,
     "metadata": {},
     "output_type": "execute_result"
    }
   ],
   "source": [
    "pred_df.head()"
   ]
  },
  {
   "cell_type": "code",
   "execution_count": 28,
   "id": "c9e224ab",
   "metadata": {
    "execution": {
     "iopub.execute_input": "2023-04-15T16:05:26.373008Z",
     "iopub.status.busy": "2023-04-15T16:05:26.372628Z",
     "iopub.status.idle": "2023-04-15T16:05:26.475283Z",
     "shell.execute_reply": "2023-04-15T16:05:26.474141Z"
    },
    "id": "c9e224ab",
    "papermill": {
     "duration": 0.26691,
     "end_time": "2023-04-15T16:05:26.478081",
     "exception": false,
     "start_time": "2023-04-15T16:05:26.211171",
     "status": "completed"
    },
    "tags": []
   },
   "outputs": [
    {
     "data": {
      "text/html": [
       "<div>\n",
       "<style scoped>\n",
       "    .dataframe tbody tr th:only-of-type {\n",
       "        vertical-align: middle;\n",
       "    }\n",
       "\n",
       "    .dataframe tbody tr th {\n",
       "        vertical-align: top;\n",
       "    }\n",
       "\n",
       "    .dataframe thead th {\n",
       "        text-align: right;\n",
       "    }\n",
       "</style>\n",
       "<table border=\"1\" class=\"dataframe\">\n",
       "  <thead>\n",
       "    <tr style=\"text-align: right;\">\n",
       "      <th></th>\n",
       "      <th>1</th>\n",
       "      <th>2</th>\n",
       "      <th>3</th>\n",
       "      <th>4</th>\n",
       "      <th>5</th>\n",
       "      <th>6</th>\n",
       "      <th>7</th>\n",
       "      <th>8</th>\n",
       "      <th>9</th>\n",
       "      <th>10</th>\n",
       "      <th>11</th>\n",
       "      <th>12</th>\n",
       "      <th>13</th>\n",
       "      <th>14</th>\n",
       "      <th>15</th>\n",
       "      <th>16</th>\n",
       "      <th>17</th>\n",
       "      <th>18</th>\n",
       "    </tr>\n",
       "  </thead>\n",
       "  <tbody>\n",
       "    <tr>\n",
       "      <th>20090312431273200</th>\n",
       "      <td>1</td>\n",
       "      <td>1</td>\n",
       "      <td>1</td>\n",
       "      <td>1</td>\n",
       "      <td>1</td>\n",
       "      <td>1</td>\n",
       "      <td>1</td>\n",
       "      <td>1</td>\n",
       "      <td>1</td>\n",
       "      <td>1</td>\n",
       "      <td>1</td>\n",
       "      <td>1</td>\n",
       "      <td>0</td>\n",
       "      <td>1</td>\n",
       "      <td>1</td>\n",
       "      <td>0</td>\n",
       "      <td>1</td>\n",
       "      <td>1</td>\n",
       "    </tr>\n",
       "    <tr>\n",
       "      <th>20090312433251036</th>\n",
       "      <td>0</td>\n",
       "      <td>1</td>\n",
       "      <td>1</td>\n",
       "      <td>1</td>\n",
       "      <td>0</td>\n",
       "      <td>1</td>\n",
       "      <td>1</td>\n",
       "      <td>0</td>\n",
       "      <td>1</td>\n",
       "      <td>0</td>\n",
       "      <td>0</td>\n",
       "      <td>1</td>\n",
       "      <td>0</td>\n",
       "      <td>1</td>\n",
       "      <td>0</td>\n",
       "      <td>1</td>\n",
       "      <td>0</td>\n",
       "      <td>1</td>\n",
       "    </tr>\n",
       "    <tr>\n",
       "      <th>20090314121766812</th>\n",
       "      <td>1</td>\n",
       "      <td>1</td>\n",
       "      <td>1</td>\n",
       "      <td>0</td>\n",
       "      <td>0</td>\n",
       "      <td>1</td>\n",
       "      <td>1</td>\n",
       "      <td>0</td>\n",
       "      <td>0</td>\n",
       "      <td>1</td>\n",
       "      <td>1</td>\n",
       "      <td>1</td>\n",
       "      <td>0</td>\n",
       "      <td>1</td>\n",
       "      <td>1</td>\n",
       "      <td>1</td>\n",
       "      <td>0</td>\n",
       "      <td>1</td>\n",
       "    </tr>\n",
       "    <tr>\n",
       "      <th>20090314363702160</th>\n",
       "      <td>1</td>\n",
       "      <td>1</td>\n",
       "      <td>1</td>\n",
       "      <td>1</td>\n",
       "      <td>1</td>\n",
       "      <td>1</td>\n",
       "      <td>1</td>\n",
       "      <td>1</td>\n",
       "      <td>1</td>\n",
       "      <td>1</td>\n",
       "      <td>1</td>\n",
       "      <td>1</td>\n",
       "      <td>0</td>\n",
       "      <td>1</td>\n",
       "      <td>0</td>\n",
       "      <td>0</td>\n",
       "      <td>1</td>\n",
       "      <td>1</td>\n",
       "    </tr>\n",
       "    <tr>\n",
       "      <th>20090314441803444</th>\n",
       "      <td>1</td>\n",
       "      <td>1</td>\n",
       "      <td>1</td>\n",
       "      <td>1</td>\n",
       "      <td>1</td>\n",
       "      <td>1</td>\n",
       "      <td>0</td>\n",
       "      <td>1</td>\n",
       "      <td>0</td>\n",
       "      <td>1</td>\n",
       "      <td>0</td>\n",
       "      <td>1</td>\n",
       "      <td>0</td>\n",
       "      <td>1</td>\n",
       "      <td>1</td>\n",
       "      <td>1</td>\n",
       "      <td>1</td>\n",
       "      <td>1</td>\n",
       "    </tr>\n",
       "    <tr>\n",
       "      <th>...</th>\n",
       "      <td>...</td>\n",
       "      <td>...</td>\n",
       "      <td>...</td>\n",
       "      <td>...</td>\n",
       "      <td>...</td>\n",
       "      <td>...</td>\n",
       "      <td>...</td>\n",
       "      <td>...</td>\n",
       "      <td>...</td>\n",
       "      <td>...</td>\n",
       "      <td>...</td>\n",
       "      <td>...</td>\n",
       "      <td>...</td>\n",
       "      <td>...</td>\n",
       "      <td>...</td>\n",
       "      <td>...</td>\n",
       "      <td>...</td>\n",
       "      <td>...</td>\n",
       "    </tr>\n",
       "    <tr>\n",
       "      <th>22100215342220508</th>\n",
       "      <td>1</td>\n",
       "      <td>1</td>\n",
       "      <td>1</td>\n",
       "      <td>1</td>\n",
       "      <td>1</td>\n",
       "      <td>1</td>\n",
       "      <td>1</td>\n",
       "      <td>0</td>\n",
       "      <td>1</td>\n",
       "      <td>1</td>\n",
       "      <td>1</td>\n",
       "      <td>1</td>\n",
       "      <td>0</td>\n",
       "      <td>1</td>\n",
       "      <td>1</td>\n",
       "      <td>1</td>\n",
       "      <td>1</td>\n",
       "      <td>1</td>\n",
       "    </tr>\n",
       "    <tr>\n",
       "      <th>22100215460321130</th>\n",
       "      <td>0</td>\n",
       "      <td>1</td>\n",
       "      <td>1</td>\n",
       "      <td>1</td>\n",
       "      <td>0</td>\n",
       "      <td>1</td>\n",
       "      <td>1</td>\n",
       "      <td>0</td>\n",
       "      <td>1</td>\n",
       "      <td>0</td>\n",
       "      <td>1</td>\n",
       "      <td>1</td>\n",
       "      <td>0</td>\n",
       "      <td>1</td>\n",
       "      <td>0</td>\n",
       "      <td>1</td>\n",
       "      <td>1</td>\n",
       "      <td>1</td>\n",
       "    </tr>\n",
       "    <tr>\n",
       "      <th>22100217104993650</th>\n",
       "      <td>1</td>\n",
       "      <td>1</td>\n",
       "      <td>1</td>\n",
       "      <td>1</td>\n",
       "      <td>1</td>\n",
       "      <td>1</td>\n",
       "      <td>1</td>\n",
       "      <td>1</td>\n",
       "      <td>1</td>\n",
       "      <td>0</td>\n",
       "      <td>1</td>\n",
       "      <td>1</td>\n",
       "      <td>1</td>\n",
       "      <td>1</td>\n",
       "      <td>0</td>\n",
       "      <td>0</td>\n",
       "      <td>1</td>\n",
       "      <td>1</td>\n",
       "    </tr>\n",
       "    <tr>\n",
       "      <th>22100219442786200</th>\n",
       "      <td>0</td>\n",
       "      <td>1</td>\n",
       "      <td>1</td>\n",
       "      <td>1</td>\n",
       "      <td>1</td>\n",
       "      <td>1</td>\n",
       "      <td>1</td>\n",
       "      <td>0</td>\n",
       "      <td>1</td>\n",
       "      <td>0</td>\n",
       "      <td>1</td>\n",
       "      <td>1</td>\n",
       "      <td>0</td>\n",
       "      <td>1</td>\n",
       "      <td>0</td>\n",
       "      <td>1</td>\n",
       "      <td>1</td>\n",
       "      <td>1</td>\n",
       "    </tr>\n",
       "    <tr>\n",
       "      <th>22100221145014656</th>\n",
       "      <td>0</td>\n",
       "      <td>1</td>\n",
       "      <td>0</td>\n",
       "      <td>1</td>\n",
       "      <td>0</td>\n",
       "      <td>0</td>\n",
       "      <td>0</td>\n",
       "      <td>0</td>\n",
       "      <td>1</td>\n",
       "      <td>0</td>\n",
       "      <td>1</td>\n",
       "      <td>1</td>\n",
       "      <td>0</td>\n",
       "      <td>0</td>\n",
       "      <td>0</td>\n",
       "      <td>0</td>\n",
       "      <td>1</td>\n",
       "      <td>1</td>\n",
       "    </tr>\n",
       "  </tbody>\n",
       "</table>\n",
       "<p>11779 rows × 18 columns</p>\n",
       "</div>"
      ],
      "text/plain": [
       "                   1   2   3   4   5   6   7   8   9   10  11  12  13  14  15  \\\n",
       "20090312431273200   1   1   1   1   1   1   1   1   1   1   1   1   0   1   1   \n",
       "20090312433251036   0   1   1   1   0   1   1   0   1   0   0   1   0   1   0   \n",
       "20090314121766812   1   1   1   0   0   1   1   0   0   1   1   1   0   1   1   \n",
       "20090314363702160   1   1   1   1   1   1   1   1   1   1   1   1   0   1   0   \n",
       "20090314441803444   1   1   1   1   1   1   0   1   0   1   0   1   0   1   1   \n",
       "...                ..  ..  ..  ..  ..  ..  ..  ..  ..  ..  ..  ..  ..  ..  ..   \n",
       "22100215342220508   1   1   1   1   1   1   1   0   1   1   1   1   0   1   1   \n",
       "22100215460321130   0   1   1   1   0   1   1   0   1   0   1   1   0   1   0   \n",
       "22100217104993650   1   1   1   1   1   1   1   1   1   0   1   1   1   1   0   \n",
       "22100219442786200   0   1   1   1   1   1   1   0   1   0   1   1   0   1   0   \n",
       "22100221145014656   0   1   0   1   0   0   0   0   1   0   1   1   0   0   0   \n",
       "\n",
       "                   16  17  18  \n",
       "20090312431273200   0   1   1  \n",
       "20090312433251036   1   0   1  \n",
       "20090314121766812   1   0   1  \n",
       "20090314363702160   0   1   1  \n",
       "20090314441803444   1   1   1  \n",
       "...                ..  ..  ..  \n",
       "22100215342220508   1   1   1  \n",
       "22100215460321130   1   1   1  \n",
       "22100217104993650   0   1   1  \n",
       "22100219442786200   1   1   1  \n",
       "22100221145014656   0   1   1  \n",
       "\n",
       "[11779 rows x 18 columns]"
      ]
     },
     "execution_count": 28,
     "metadata": {},
     "output_type": "execute_result"
    }
   ],
   "source": [
    "# PUT TRUE LABELS INTO DATAFRAME WITH 18 COLUMNS\n",
    "true =pred_df.copy()\n",
    "for Q in range(1,19):\n",
    "    # GET TRUE LABELS\n",
    "    tmp = target.loc[target.q == Q].set_index('user_id').loc[ALL_USER]\n",
    "    true[Q] = tmp.correct.values\n",
    "true"
   ]
  },
  {
   "cell_type": "code",
   "execution_count": 23,
   "id": "bb950e0e",
   "metadata": {
    "execution": {
     "iopub.execute_input": "2023-04-15T16:05:26.842657Z",
     "iopub.status.busy": "2023-04-15T16:05:26.842295Z",
     "iopub.status.idle": "2023-04-15T16:05:31.608185Z",
     "shell.execute_reply": "2023-04-15T16:05:31.607015Z"
    },
    "id": "bb950e0e",
    "papermill": {
     "duration": 4.930641,
     "end_time": "2023-04-15T16:05:31.611309",
     "exception": false,
     "start_time": "2023-04-15T16:05:26.680668",
     "status": "completed"
    },
    "tags": []
   },
   "outputs": [],
   "source": [
    "scores = []\n",
    "thresholds = []\n",
    "best_score = 0\n",
    "best_threshold = 0\n",
    "#values: Only the values in the DataFrame will be returned, the axes labels will be removed.\n",
    "#reshape(-1): 降至一維\n",
    "for t in np.arange(0.4,0.8, 0.01):\n",
    "    pred = (pred_df.values.reshape(-1) > t).astype(\"int\")\n",
    "    s = f1_score(true.values.reshape(-1), pred,average='macro')\n",
    "    scores.append(s)\n",
    "    thresholds.append(t)\n",
    "best_score = max(scores)\n",
    "best_threshold = thresholds[scores.index(max(scores))]"
   ]
  },
  {
   "cell_type": "code",
   "execution_count": 24,
   "id": "2cfd8ff3",
   "metadata": {
    "execution": {
     "iopub.execute_input": "2023-04-15T16:05:31.930107Z",
     "iopub.status.busy": "2023-04-15T16:05:31.929718Z",
     "iopub.status.idle": "2023-04-15T16:05:32.240185Z",
     "shell.execute_reply": "2023-04-15T16:05:32.239158Z"
    },
    "id": "2cfd8ff3",
    "papermill": {
     "duration": 0.473929,
     "end_time": "2023-04-15T16:05:32.243106",
     "exception": false,
     "start_time": "2023-04-15T16:05:31.769177",
     "status": "completed"
    },
    "tags": []
   },
   "outputs": [
    {
     "data": {
      "image/png": "[encoded data removed]",
      "text/plain": [
       "<Figure size 2000x500 with 1 Axes>"
      ]
     },
     "metadata": {},
     "output_type": "display_data"
    }
   ],
   "source": [
    "import matplotlib.pyplot as plt\n",
    "plt.figure(figsize=(20,5))\n",
    "plt.plot(thresholds,scores,'-o',color='blue')\n",
    "plt.scatter(best_threshold, best_score, color='blue', s=300, alpha=1)\n",
    "plt.xlabel('Threshold',size=14)\n",
    "plt.ylabel('Validation F1 Score',size=14)\n",
    "plt.title(f'Threshold vs. F1_Score with Best F1_Score = {best_score:.3f} at Best Threshold = {best_threshold:.3}',size=18)\n",
    "plt.show()"
   ]
  },
  {
   "cell_type": "code",
   "execution_count": 25,
   "id": "72622032",
   "metadata": {
    "execution": {
     "iopub.execute_input": "2023-04-15T16:05:32.564295Z",
     "iopub.status.busy": "2023-04-15T16:05:32.563913Z",
     "iopub.status.idle": "2023-04-15T16:05:32.802778Z",
     "shell.execute_reply": "2023-04-15T16:05:32.801694Z"
    },
    "id": "72622032",
    "papermill": {
     "duration": 0.401609,
     "end_time": "2023-04-15T16:05:32.805024",
     "exception": false,
     "start_time": "2023-04-15T16:05:32.403415",
     "status": "completed"
    },
    "tags": []
   },
   "outputs": [
    {
     "name": "stdout",
     "output_type": "stream",
     "text": [
      "Q1 F1_score: 0.7425260976072412\n",
      "Q2 F1_score: 0.7932440942616996\n",
      "Q3 F1_score: 0.7682536508366089\n",
      "Q4 F1_score: 0.6578810621302613\n",
      "Q5 F1_score: 0.7159073102027901\n",
      "Q6 F1_score: 0.7237947471334062\n",
      "Q7 F1_score: 0.7047805164583215\n",
      "Q8 F1_score: 0.6914768270822063\n",
      "Q9 F1_score: 0.6942216725344621\n",
      "Q10 F1_score: 0.6651733333477337\n",
      "Q11 F1_score: 0.7120537774711306\n",
      "Q12 F1_score: 0.6611456377457884\n",
      "Q13 F1_score: 0.6574096480218365\n",
      "Q14 F1_score: 0.754872313611588\n",
      "Q15 F1_score: 0.7420768181863423\n",
      "Q16 F1_score: 0.7628482412707329\n",
      "Q17 F1_score: 0.7578730284213755\n",
      "Q18 F1_score: 0.7580838977707838\n",
      "OVERALL F1_score: 0.7758658020303503\n"
     ]
    }
   ],
   "source": [
    "for i in range(1,19):\n",
    "    pred = (pred_df[i].values.reshape(-1) > best_threshold).astype(\"int\")\n",
    "    s = f1_score(true[i].values.reshape(-1), pred,average='macro')\n",
    "    print(f\"Q{i} F1_score: {s}\")\n",
    "\n",
    "pred = (pred_df.values.reshape(-1) > best_threshold).astype(\"int\")\n",
    "s = f1_score(true.values.reshape(-1), pred,average='macro')\n",
    "print(f\"OVERALL F1_score: {s}\")"
   ]
  },
  {
   "cell_type": "code",
   "execution_count": null,
   "id": "3f24c6e9",
   "metadata": {},
   "outputs": [],
   "source": []
  }
 ],
 "metadata": {
  "colab": {
   "provenance": []
  },
  "kernelspec": {
   "display_name": "Python 3 (ipykernel)",
   "language": "python",
   "name": "python3"
  },
  "language_info": {
   "codemirror_mode": {
    "name": "ipython",
    "version": 3
   },
   "file_extension": ".py",
   "mimetype": "text/x-python",
   "name": "python",
   "nbconvert_exporter": "python",
   "pygments_lexer": "ipython3",
   "version": "3.8.16"
  },
  "papermill": {
   "default_parameters": {},
   "duration": 491.966914,
   "end_time": "2023-04-15T16:05:46.859546",
   "environment_variables": {},
   "exception": null,
   "input_path": "__notebook__.ipynb",
   "output_path": "__notebook__.ipynb",
   "parameters": {},
   "start_time": "2023-04-15T15:57:34.892632",
   "version": "2.4.0"
  }
 },
 "nbformat": 4,
 "nbformat_minor": 5
}
